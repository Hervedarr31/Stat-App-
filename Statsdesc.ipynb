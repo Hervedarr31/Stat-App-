{
 "cells": [
  {
   "cell_type": "markdown",
   "metadata": {},
   "source": [
    "# Analyse descriptive de la base de données "
   ]
  },
  {
   "cell_type": "markdown",
   "metadata": {},
   "source": [
    "### Importation de la base"
   ]
  },
  {
   "cell_type": "code",
   "execution_count": 53,
   "metadata": {},
   "outputs": [],
   "source": [
    "import pandas as pd \n",
    "import matplotlib.pyplot as plt\n",
    "from functools import reduce\n",
    "from operator import add\n",
    "import spacy\n",
    "from spacy import displacy\n",
    "from spacy.tokenizer import Tokenizer\n",
    "from spacy.lang.fr import French\n",
    "from collections import Counter\n",
    "import re"
   ]
  },
  {
   "cell_type": "code",
   "execution_count": 94,
   "metadata": {},
   "outputs": [],
   "source": [
    "df = pd.read_csv(\"/Users/Nadir/Documents/Statapp/2019-01-08-editos-radio.csv\")"
   ]
  },
  {
   "cell_type": "markdown",
   "metadata": {},
   "source": [
    "On enlève les \"\\n\" "
   ]
  },
  {
   "cell_type": "code",
   "execution_count": 95,
   "metadata": {},
   "outputs": [],
   "source": [
    "df['auteur'] = df['auteur'].apply(lambda x: \" \".join(str(x).split()))"
   ]
  },
  {
   "cell_type": "code",
   "execution_count": 96,
   "metadata": {},
   "outputs": [],
   "source": [
    "df['texte']= df['texte'].apply(lambda x: \" \".join((str(x).split())))"
   ]
  },
  {
   "cell_type": "markdown",
   "metadata": {},
   "source": [
    "### Statistiques descriptives structurelles"
   ]
  },
  {
   "cell_type": "code",
   "execution_count": 5,
   "metadata": {},
   "outputs": [
    {
     "data": {
      "text/html": [
       "<div>\n",
       "<style scoped>\n",
       "    .dataframe tbody tr th:only-of-type {\n",
       "        vertical-align: middle;\n",
       "    }\n",
       "\n",
       "    .dataframe tbody tr th {\n",
       "        vertical-align: top;\n",
       "    }\n",
       "\n",
       "    .dataframe thead th {\n",
       "        text-align: right;\n",
       "    }\n",
       "</style>\n",
       "<table border=\"1\" class=\"dataframe\">\n",
       "  <thead>\n",
       "    <tr style=\"text-align: right;\">\n",
       "      <th></th>\n",
       "      <th>emission</th>\n",
       "      <th>date</th>\n",
       "      <th>auteur</th>\n",
       "      <th>texte</th>\n",
       "    </tr>\n",
       "  </thead>\n",
       "  <tbody>\n",
       "    <tr>\n",
       "      <th>0</th>\n",
       "      <td>Europe1 Nay</td>\n",
       "      <td>2015-12-05</td>\n",
       "      <td>Catherine Nay</td>\n",
       "      <td>Avec un chômage au plus bas, la chancelière au...</td>\n",
       "    </tr>\n",
       "    <tr>\n",
       "      <th>1</th>\n",
       "      <td>Europe1 Nay</td>\n",
       "      <td>2015-12-12</td>\n",
       "      <td>Catherine Nay</td>\n",
       "      <td>Donald Trump, à 69 ans, pèse 4 milliards de do...</td>\n",
       "    </tr>\n",
       "    <tr>\n",
       "      <th>2</th>\n",
       "      <td>Europe1 Nay</td>\n",
       "      <td>2015-12-19</td>\n",
       "      <td>Catherine Nay</td>\n",
       "      <td>W.B. : François Hollande revient dans la cours...</td>\n",
       "    </tr>\n",
       "    <tr>\n",
       "      <th>3</th>\n",
       "      <td>Europe1 Nay</td>\n",
       "      <td>2016-01-02</td>\n",
       "      <td>Catherine Nay</td>\n",
       "      <td>Que ce soit sur la déchéance de nationalité ou...</td>\n",
       "    </tr>\n",
       "    <tr>\n",
       "      <th>4</th>\n",
       "      <td>Europe1 Nay</td>\n",
       "      <td>2016-01-09</td>\n",
       "      <td>Catherine Nay</td>\n",
       "      <td>WB : Hier, cela faisait 20 ans que François Mi...</td>\n",
       "    </tr>\n",
       "  </tbody>\n",
       "</table>\n",
       "</div>"
      ],
      "text/plain": [
       "      emission        date         auteur  \\\n",
       "0  Europe1 Nay  2015-12-05  Catherine Nay   \n",
       "1  Europe1 Nay  2015-12-12  Catherine Nay   \n",
       "2  Europe1 Nay  2015-12-19  Catherine Nay   \n",
       "3  Europe1 Nay  2016-01-02  Catherine Nay   \n",
       "4  Europe1 Nay  2016-01-09  Catherine Nay   \n",
       "\n",
       "                                               texte  \n",
       "0  Avec un chômage au plus bas, la chancelière au...  \n",
       "1  Donald Trump, à 69 ans, pèse 4 milliards de do...  \n",
       "2  W.B. : François Hollande revient dans la cours...  \n",
       "3  Que ce soit sur la déchéance de nationalité ou...  \n",
       "4  WB : Hier, cela faisait 20 ans que François Mi...  "
      ]
     },
     "execution_count": 5,
     "metadata": {},
     "output_type": "execute_result"
    }
   ],
   "source": [
    "df.head()"
   ]
  },
  {
   "cell_type": "code",
   "execution_count": 6,
   "metadata": {},
   "outputs": [
    {
     "data": {
      "text/html": [
       "<div>\n",
       "<style scoped>\n",
       "    .dataframe tbody tr th:only-of-type {\n",
       "        vertical-align: middle;\n",
       "    }\n",
       "\n",
       "    .dataframe tbody tr th {\n",
       "        vertical-align: top;\n",
       "    }\n",
       "\n",
       "    .dataframe thead th {\n",
       "        text-align: right;\n",
       "    }\n",
       "</style>\n",
       "<table border=\"1\" class=\"dataframe\">\n",
       "  <thead>\n",
       "    <tr style=\"text-align: right;\">\n",
       "      <th></th>\n",
       "      <th>emission</th>\n",
       "      <th>date</th>\n",
       "      <th>auteur</th>\n",
       "      <th>texte</th>\n",
       "    </tr>\n",
       "  </thead>\n",
       "  <tbody>\n",
       "    <tr>\n",
       "      <th>count</th>\n",
       "      <td>2256</td>\n",
       "      <td>2256</td>\n",
       "      <td>2256</td>\n",
       "      <td>2256</td>\n",
       "    </tr>\n",
       "    <tr>\n",
       "      <th>unique</th>\n",
       "      <td>7</td>\n",
       "      <td>697</td>\n",
       "      <td>28</td>\n",
       "      <td>2255</td>\n",
       "    </tr>\n",
       "    <tr>\n",
       "      <th>top</th>\n",
       "      <td>RTL Ventura</td>\n",
       "      <td>2019-01-03</td>\n",
       "      <td>Alba Ventura</td>\n",
       "      <td>Bonjour Catherine, Bonjour Bernard, bonjour à ...</td>\n",
       "    </tr>\n",
       "    <tr>\n",
       "      <th>freq</th>\n",
       "      <td>483</td>\n",
       "      <td>7</td>\n",
       "      <td>416</td>\n",
       "      <td>2</td>\n",
       "    </tr>\n",
       "  </tbody>\n",
       "</table>\n",
       "</div>"
      ],
      "text/plain": [
       "           emission        date        auteur  \\\n",
       "count          2256        2256          2256   \n",
       "unique            7         697            28   \n",
       "top     RTL Ventura  2019-01-03  Alba Ventura   \n",
       "freq            483           7           416   \n",
       "\n",
       "                                                    texte  \n",
       "count                                                2256  \n",
       "unique                                               2255  \n",
       "top     Bonjour Catherine, Bonjour Bernard, bonjour à ...  \n",
       "freq                                                    2  "
      ]
     },
     "execution_count": 6,
     "metadata": {},
     "output_type": "execute_result"
    }
   ],
   "source": [
    "df.describe()"
   ]
  },
  {
   "cell_type": "code",
   "execution_count": 7,
   "metadata": {},
   "outputs": [
    {
     "data": {
      "text/plain": [
       "array(['Europe1 Nay', 'RTL Duhamel', 'RTL Ventura', 'FrCulture Says',\n",
       "       'FrInter Legrand', 'FrInter Seux', 'Europe1 Darmon'], dtype=object)"
      ]
     },
     "execution_count": 7,
     "metadata": {},
     "output_type": "execute_result"
    }
   ],
   "source": [
    "df.emission.unique()"
   ]
  },
  {
   "cell_type": "code",
   "execution_count": 8,
   "metadata": {},
   "outputs": [
    {
     "name": "stdout",
     "output_type": "stream",
     "text": [
      "Nombre d'émissions différentes dans la base : 7\n"
     ]
    }
   ],
   "source": [
    "print(\"Nombre d'émissions différentes dans la base :\", len(df.emission.unique()))"
   ]
  },
  {
   "cell_type": "code",
   "execution_count": 9,
   "metadata": {},
   "outputs": [
    {
     "data": {
      "text/plain": [
       "array(['Catherine Nay', 'Alain Duhamel', 'Benjamin Sportouch',\n",
       "       'Olivier Bost', 'Alba Ventura', 'Dominique Tenza',\n",
       "       'Vincent Derosier', 'Julien Fautrat', 'Frédéric Says', 'nan',\n",
       "       'Frédéric Says Ludovic Piedtenu', 'Olivier Mazerolle',\n",
       "       'Thomas Legrand', 'Dominique Seux', 'Nicolas Domenach',\n",
       "       'Frédéric Métézeau', 'Jean-Marc Vittori', 'Arnaud Le Gal',\n",
       "       'Carine Bécard', 'Etienne Lefebvre', 'Ludovic Piedtenu',\n",
       "       'Solveig Godeluck', 'Yaël Goosz', 'La rédaction numérique de RTL',\n",
       "       'Fabienne Schmitt', 'Michaël Darmon', 'Stéphane Robert',\n",
       "       'Sophie Delpont'], dtype=object)"
      ]
     },
     "execution_count": 9,
     "metadata": {},
     "output_type": "execute_result"
    }
   ],
   "source": [
    "df.auteur.unique()"
   ]
  },
  {
   "cell_type": "code",
   "execution_count": 10,
   "metadata": {},
   "outputs": [
    {
     "name": "stdout",
     "output_type": "stream",
     "text": [
      "Nombre d'éditorialistes différents dans la base : 28\n"
     ]
    }
   ],
   "source": [
    "print(\"Nombre d'éditorialistes différents dans la base :\", len(df.auteur.unique()))"
   ]
  },
  {
   "cell_type": "code",
   "execution_count": 11,
   "metadata": {},
   "outputs": [
    {
     "data": {
      "text/plain": [
       "<AxesSubplot:title={'center':\"Nombre d'articles dans la base pour chaque émission\"}, xlabel='emission', ylabel='texte'>"
      ]
     },
     "execution_count": 11,
     "metadata": {},
     "output_type": "execute_result"
    },
    {
     "data": {
      "image/png": "[encoded data removed]",
      "text/plain": [
       "<Figure size 720x720 with 1 Axes>"
      ]
     },
     "metadata": {
      "needs_background": "light"
     },
     "output_type": "display_data"
    }
   ],
   "source": [
    "pd.DataFrame(df.groupby('emission')['texte'].count().reset_index()).sort_values(by =['texte']).plot.scatter(x='emission', \n",
    "                                                                                                            y= 'texte', figsize = (10,10), title = \"Nombre d'articles dans la base pour chaque émission\")"
   ]
  },
  {
   "cell_type": "code",
   "execution_count": 12,
   "metadata": {},
   "outputs": [
    {
     "data": {
      "text/plain": [
       "<AxesSubplot:title={'center':'Répartition de la longueur des éditos'}>"
      ]
     },
     "execution_count": 12,
     "metadata": {},
     "output_type": "execute_result"
    },
    {
     "data": {
      "image/png": "[encoded data removed]",
      "text/plain": [
       "<Figure size 432x288 with 1 Axes>"
      ]
     },
     "metadata": {
      "needs_background": "light"
     },
     "output_type": "display_data"
    }
   ],
   "source": [
    "%matplotlib inline\n",
    "plt.title('Répartition de la longueur des éditos')\n",
    "df.texte.apply(len).hist(bins=50)"
   ]
  },
  {
   "cell_type": "code",
   "execution_count": 13,
   "metadata": {},
   "outputs": [
    {
     "data": {
      "text/plain": [
       "count    2256.000000\n",
       "mean     2809.177305\n",
       "std       883.319599\n",
       "min       526.000000\n",
       "25%      2308.000000\n",
       "50%      2902.000000\n",
       "75%      3322.000000\n",
       "max      5799.000000\n",
       "Name: texte, dtype: float64"
      ]
     },
     "execution_count": 13,
     "metadata": {},
     "output_type": "execute_result"
    }
   ],
   "source": [
    "df.texte.apply(len).describe()"
   ]
  },
  {
   "cell_type": "markdown",
   "metadata": {},
   "source": [
    "### Statistiques descriptives textuelles"
   ]
  },
  {
   "cell_type": "markdown",
   "metadata": {},
   "source": [
    "- Nombre de phrases "
   ]
  },
  {
   "cell_type": "code",
   "execution_count": 126,
   "metadata": {},
   "outputs": [],
   "source": [
    "def split(text, delimiters = [\".\",\"?\",\"!\",\"...\"], maxsplit=0):\n",
    "    #fonction servant juste à séparer les phrases dans un texte sous forme de liste\n",
    "    delimiters = '|'.join(map(re.escape, delimiters))\n",
    "    phrases = re.split(delimiters, text, maxsplit)\n",
    "    return(list(filter(lambda a: a != '', phrases)))"
   ]
  },
  {
   "cell_type": "code",
   "execution_count": 83,
   "metadata": {
    "scrolled": false
   },
   "outputs": [],
   "source": [
    "def nombre_phrases(text):\n",
    "    return(len(split(text)))"
   ]
  },
  {
   "cell_type": "code",
   "execution_count": 97,
   "metadata": {},
   "outputs": [],
   "source": [
    "df['Nombre phrases'] = df['texte'].apply(nombre_phrases)"
   ]
  },
  {
   "cell_type": "code",
   "execution_count": 98,
   "metadata": {},
   "outputs": [
    {
     "data": {
      "text/html": [
       "<div>\n",
       "<style scoped>\n",
       "    .dataframe tbody tr th:only-of-type {\n",
       "        vertical-align: middle;\n",
       "    }\n",
       "\n",
       "    .dataframe tbody tr th {\n",
       "        vertical-align: top;\n",
       "    }\n",
       "\n",
       "    .dataframe thead th {\n",
       "        text-align: right;\n",
       "    }\n",
       "</style>\n",
       "<table border=\"1\" class=\"dataframe\">\n",
       "  <thead>\n",
       "    <tr style=\"text-align: right;\">\n",
       "      <th></th>\n",
       "      <th>emission</th>\n",
       "      <th>date</th>\n",
       "      <th>auteur</th>\n",
       "      <th>texte</th>\n",
       "      <th>Nombre phrases</th>\n",
       "    </tr>\n",
       "  </thead>\n",
       "  <tbody>\n",
       "    <tr>\n",
       "      <th>0</th>\n",
       "      <td>Europe1 Nay</td>\n",
       "      <td>2015-12-05</td>\n",
       "      <td>Catherine Nay</td>\n",
       "      <td>Avec un chômage au plus bas, la chancelière au...</td>\n",
       "      <td>30</td>\n",
       "    </tr>\n",
       "    <tr>\n",
       "      <th>1</th>\n",
       "      <td>Europe1 Nay</td>\n",
       "      <td>2015-12-12</td>\n",
       "      <td>Catherine Nay</td>\n",
       "      <td>Donald Trump, à 69 ans, pèse 4 milliards de do...</td>\n",
       "      <td>18</td>\n",
       "    </tr>\n",
       "    <tr>\n",
       "      <th>2</th>\n",
       "      <td>Europe1 Nay</td>\n",
       "      <td>2015-12-19</td>\n",
       "      <td>Catherine Nay</td>\n",
       "      <td>W.B. : François Hollande revient dans la cours...</td>\n",
       "      <td>62</td>\n",
       "    </tr>\n",
       "    <tr>\n",
       "      <th>3</th>\n",
       "      <td>Europe1 Nay</td>\n",
       "      <td>2016-01-02</td>\n",
       "      <td>Catherine Nay</td>\n",
       "      <td>Que ce soit sur la déchéance de nationalité ou...</td>\n",
       "      <td>47</td>\n",
       "    </tr>\n",
       "    <tr>\n",
       "      <th>4</th>\n",
       "      <td>Europe1 Nay</td>\n",
       "      <td>2016-01-09</td>\n",
       "      <td>Catherine Nay</td>\n",
       "      <td>WB : Hier, cela faisait 20 ans que François Mi...</td>\n",
       "      <td>57</td>\n",
       "    </tr>\n",
       "    <tr>\n",
       "      <th>...</th>\n",
       "      <td>...</td>\n",
       "      <td>...</td>\n",
       "      <td>...</td>\n",
       "      <td>...</td>\n",
       "      <td>...</td>\n",
       "    </tr>\n",
       "    <tr>\n",
       "      <th>2251</th>\n",
       "      <td>FrCulture Says</td>\n",
       "      <td>2019-01-08</td>\n",
       "      <td>Frédéric Says</td>\n",
       "      <td>Posture ferme, et doigt tendu. Edouard Philipp...</td>\n",
       "      <td>38</td>\n",
       "    </tr>\n",
       "    <tr>\n",
       "      <th>2252</th>\n",
       "      <td>FrInter Legrand</td>\n",
       "      <td>2019-01-08</td>\n",
       "      <td>Thomas Legrand</td>\n",
       "      <td>Le Rassemblement-National et LFI entendent cap...</td>\n",
       "      <td>19</td>\n",
       "    </tr>\n",
       "    <tr>\n",
       "      <th>2253</th>\n",
       "      <td>FrInter Seux</td>\n",
       "      <td>2019-01-08</td>\n",
       "      <td>Dominique Seux</td>\n",
       "      <td>Une question toute simple ce matin : comment v...</td>\n",
       "      <td>23</td>\n",
       "    </tr>\n",
       "    <tr>\n",
       "      <th>2254</th>\n",
       "      <td>RTL Duhamel</td>\n",
       "      <td>2019-01-08</td>\n",
       "      <td>Alain Duhamel</td>\n",
       "      <td>Édouard Philippe voulait afficher une grande f...</td>\n",
       "      <td>18</td>\n",
       "    </tr>\n",
       "    <tr>\n",
       "      <th>2255</th>\n",
       "      <td>RTL Ventura</td>\n",
       "      <td>2019-01-08</td>\n",
       "      <td>Alba Ventura</td>\n",
       "      <td>Édouard Philippe a annoncé une série de mesure...</td>\n",
       "      <td>35</td>\n",
       "    </tr>\n",
       "  </tbody>\n",
       "</table>\n",
       "<p>2256 rows × 5 columns</p>\n",
       "</div>"
      ],
      "text/plain": [
       "             emission        date          auteur  \\\n",
       "0         Europe1 Nay  2015-12-05   Catherine Nay   \n",
       "1         Europe1 Nay  2015-12-12   Catherine Nay   \n",
       "2         Europe1 Nay  2015-12-19   Catherine Nay   \n",
       "3         Europe1 Nay  2016-01-02   Catherine Nay   \n",
       "4         Europe1 Nay  2016-01-09   Catherine Nay   \n",
       "...               ...         ...             ...   \n",
       "2251   FrCulture Says  2019-01-08   Frédéric Says   \n",
       "2252  FrInter Legrand  2019-01-08  Thomas Legrand   \n",
       "2253     FrInter Seux  2019-01-08  Dominique Seux   \n",
       "2254      RTL Duhamel  2019-01-08   Alain Duhamel   \n",
       "2255      RTL Ventura  2019-01-08    Alba Ventura   \n",
       "\n",
       "                                                  texte  Nombre phrases  \n",
       "0     Avec un chômage au plus bas, la chancelière au...              30  \n",
       "1     Donald Trump, à 69 ans, pèse 4 milliards de do...              18  \n",
       "2     W.B. : François Hollande revient dans la cours...              62  \n",
       "3     Que ce soit sur la déchéance de nationalité ou...              47  \n",
       "4     WB : Hier, cela faisait 20 ans que François Mi...              57  \n",
       "...                                                 ...             ...  \n",
       "2251  Posture ferme, et doigt tendu. Edouard Philipp...              38  \n",
       "2252  Le Rassemblement-National et LFI entendent cap...              19  \n",
       "2253  Une question toute simple ce matin : comment v...              23  \n",
       "2254  Édouard Philippe voulait afficher une grande f...              18  \n",
       "2255  Édouard Philippe a annoncé une série de mesure...              35  \n",
       "\n",
       "[2256 rows x 5 columns]"
      ]
     },
     "execution_count": 98,
     "metadata": {},
     "output_type": "execute_result"
    }
   ],
   "source": [
    "df"
   ]
  },
  {
   "cell_type": "markdown",
   "metadata": {},
   "source": [
    "- Phrases interrogatives"
   ]
  },
  {
   "cell_type": "code",
   "execution_count": 99,
   "metadata": {},
   "outputs": [],
   "source": [
    "df['Interrogatives'] = df['texte'].apply(lambda x : x.count('?'))"
   ]
  },
  {
   "cell_type": "code",
   "execution_count": 110,
   "metadata": {},
   "outputs": [],
   "source": [
    "df['Pourcentage interrogatives']=round((df['Interrogatives']/df['Nombre phrases'])*100,2)"
   ]
  },
  {
   "cell_type": "code",
   "execution_count": 111,
   "metadata": {},
   "outputs": [
    {
     "data": {
      "text/html": [
       "<div>\n",
       "<style scoped>\n",
       "    .dataframe tbody tr th:only-of-type {\n",
       "        vertical-align: middle;\n",
       "    }\n",
       "\n",
       "    .dataframe tbody tr th {\n",
       "        vertical-align: top;\n",
       "    }\n",
       "\n",
       "    .dataframe thead th {\n",
       "        text-align: right;\n",
       "    }\n",
       "</style>\n",
       "<table border=\"1\" class=\"dataframe\">\n",
       "  <thead>\n",
       "    <tr style=\"text-align: right;\">\n",
       "      <th></th>\n",
       "      <th>emission</th>\n",
       "      <th>date</th>\n",
       "      <th>auteur</th>\n",
       "      <th>texte</th>\n",
       "      <th>Nombre phrases</th>\n",
       "      <th>Interrogatives</th>\n",
       "      <th>Pourcentage interrogatives</th>\n",
       "    </tr>\n",
       "  </thead>\n",
       "  <tbody>\n",
       "    <tr>\n",
       "      <th>0</th>\n",
       "      <td>Europe1 Nay</td>\n",
       "      <td>2015-12-05</td>\n",
       "      <td>Catherine Nay</td>\n",
       "      <td>Avec un chômage au plus bas, la chancelière au...</td>\n",
       "      <td>30</td>\n",
       "      <td>3</td>\n",
       "      <td>10.00</td>\n",
       "    </tr>\n",
       "    <tr>\n",
       "      <th>1</th>\n",
       "      <td>Europe1 Nay</td>\n",
       "      <td>2015-12-12</td>\n",
       "      <td>Catherine Nay</td>\n",
       "      <td>Donald Trump, à 69 ans, pèse 4 milliards de do...</td>\n",
       "      <td>18</td>\n",
       "      <td>0</td>\n",
       "      <td>0.00</td>\n",
       "    </tr>\n",
       "    <tr>\n",
       "      <th>2</th>\n",
       "      <td>Europe1 Nay</td>\n",
       "      <td>2015-12-19</td>\n",
       "      <td>Catherine Nay</td>\n",
       "      <td>W.B. : François Hollande revient dans la cours...</td>\n",
       "      <td>62</td>\n",
       "      <td>4</td>\n",
       "      <td>6.45</td>\n",
       "    </tr>\n",
       "    <tr>\n",
       "      <th>3</th>\n",
       "      <td>Europe1 Nay</td>\n",
       "      <td>2016-01-02</td>\n",
       "      <td>Catherine Nay</td>\n",
       "      <td>Que ce soit sur la déchéance de nationalité ou...</td>\n",
       "      <td>47</td>\n",
       "      <td>6</td>\n",
       "      <td>12.77</td>\n",
       "    </tr>\n",
       "    <tr>\n",
       "      <th>4</th>\n",
       "      <td>Europe1 Nay</td>\n",
       "      <td>2016-01-09</td>\n",
       "      <td>Catherine Nay</td>\n",
       "      <td>WB : Hier, cela faisait 20 ans que François Mi...</td>\n",
       "      <td>57</td>\n",
       "      <td>4</td>\n",
       "      <td>7.02</td>\n",
       "    </tr>\n",
       "    <tr>\n",
       "      <th>...</th>\n",
       "      <td>...</td>\n",
       "      <td>...</td>\n",
       "      <td>...</td>\n",
       "      <td>...</td>\n",
       "      <td>...</td>\n",
       "      <td>...</td>\n",
       "      <td>...</td>\n",
       "    </tr>\n",
       "    <tr>\n",
       "      <th>2251</th>\n",
       "      <td>FrCulture Says</td>\n",
       "      <td>2019-01-08</td>\n",
       "      <td>Frédéric Says</td>\n",
       "      <td>Posture ferme, et doigt tendu. Edouard Philipp...</td>\n",
       "      <td>38</td>\n",
       "      <td>5</td>\n",
       "      <td>13.16</td>\n",
       "    </tr>\n",
       "    <tr>\n",
       "      <th>2252</th>\n",
       "      <td>FrInter Legrand</td>\n",
       "      <td>2019-01-08</td>\n",
       "      <td>Thomas Legrand</td>\n",
       "      <td>Le Rassemblement-National et LFI entendent cap...</td>\n",
       "      <td>19</td>\n",
       "      <td>1</td>\n",
       "      <td>5.26</td>\n",
       "    </tr>\n",
       "    <tr>\n",
       "      <th>2253</th>\n",
       "      <td>FrInter Seux</td>\n",
       "      <td>2019-01-08</td>\n",
       "      <td>Dominique Seux</td>\n",
       "      <td>Une question toute simple ce matin : comment v...</td>\n",
       "      <td>23</td>\n",
       "      <td>3</td>\n",
       "      <td>13.04</td>\n",
       "    </tr>\n",
       "    <tr>\n",
       "      <th>2254</th>\n",
       "      <td>RTL Duhamel</td>\n",
       "      <td>2019-01-08</td>\n",
       "      <td>Alain Duhamel</td>\n",
       "      <td>Édouard Philippe voulait afficher une grande f...</td>\n",
       "      <td>18</td>\n",
       "      <td>0</td>\n",
       "      <td>0.00</td>\n",
       "    </tr>\n",
       "    <tr>\n",
       "      <th>2255</th>\n",
       "      <td>RTL Ventura</td>\n",
       "      <td>2019-01-08</td>\n",
       "      <td>Alba Ventura</td>\n",
       "      <td>Édouard Philippe a annoncé une série de mesure...</td>\n",
       "      <td>35</td>\n",
       "      <td>7</td>\n",
       "      <td>20.00</td>\n",
       "    </tr>\n",
       "  </tbody>\n",
       "</table>\n",
       "<p>2256 rows × 7 columns</p>\n",
       "</div>"
      ],
      "text/plain": [
       "             emission        date          auteur  \\\n",
       "0         Europe1 Nay  2015-12-05   Catherine Nay   \n",
       "1         Europe1 Nay  2015-12-12   Catherine Nay   \n",
       "2         Europe1 Nay  2015-12-19   Catherine Nay   \n",
       "3         Europe1 Nay  2016-01-02   Catherine Nay   \n",
       "4         Europe1 Nay  2016-01-09   Catherine Nay   \n",
       "...               ...         ...             ...   \n",
       "2251   FrCulture Says  2019-01-08   Frédéric Says   \n",
       "2252  FrInter Legrand  2019-01-08  Thomas Legrand   \n",
       "2253     FrInter Seux  2019-01-08  Dominique Seux   \n",
       "2254      RTL Duhamel  2019-01-08   Alain Duhamel   \n",
       "2255      RTL Ventura  2019-01-08    Alba Ventura   \n",
       "\n",
       "                                                  texte  Nombre phrases  \\\n",
       "0     Avec un chômage au plus bas, la chancelière au...              30   \n",
       "1     Donald Trump, à 69 ans, pèse 4 milliards de do...              18   \n",
       "2     W.B. : François Hollande revient dans la cours...              62   \n",
       "3     Que ce soit sur la déchéance de nationalité ou...              47   \n",
       "4     WB : Hier, cela faisait 20 ans que François Mi...              57   \n",
       "...                                                 ...             ...   \n",
       "2251  Posture ferme, et doigt tendu. Edouard Philipp...              38   \n",
       "2252  Le Rassemblement-National et LFI entendent cap...              19   \n",
       "2253  Une question toute simple ce matin : comment v...              23   \n",
       "2254  Édouard Philippe voulait afficher une grande f...              18   \n",
       "2255  Édouard Philippe a annoncé une série de mesure...              35   \n",
       "\n",
       "      Interrogatives  Pourcentage interrogatives  \n",
       "0                  3                       10.00  \n",
       "1                  0                        0.00  \n",
       "2                  4                        6.45  \n",
       "3                  6                       12.77  \n",
       "4                  4                        7.02  \n",
       "...              ...                         ...  \n",
       "2251               5                       13.16  \n",
       "2252               1                        5.26  \n",
       "2253               3                       13.04  \n",
       "2254               0                        0.00  \n",
       "2255               7                       20.00  \n",
       "\n",
       "[2256 rows x 7 columns]"
      ]
     },
     "execution_count": 111,
     "metadata": {},
     "output_type": "execute_result"
    }
   ],
   "source": [
    "df"
   ]
  },
  {
   "cell_type": "code",
   "execution_count": 127,
   "metadata": {},
   "outputs": [
    {
     "name": "stdout",
     "output_type": "stream",
     "text": [
      "Proportion de phrases interrogatives :  6.540354609929105 %\n"
     ]
    }
   ],
   "source": [
    "print(\"Proportion de phrases interrogatives : \", df['Pourcentage interrogatives'].mean(), '%')"
   ]
  },
  {
   "cell_type": "markdown",
   "metadata": {},
   "source": [
    "Est-ce notable ? A comparer."
   ]
  },
  {
   "cell_type": "markdown",
   "metadata": {},
   "source": [
    "Des différences stylistiques entre les éditorialistes ?"
   ]
  },
  {
   "cell_type": "code",
   "execution_count": 128,
   "metadata": {},
   "outputs": [
    {
     "data": {
      "text/plain": [
       "<AxesSubplot:xlabel='auteur'>"
      ]
     },
     "execution_count": 128,
     "metadata": {},
     "output_type": "execute_result"
    },
    {
     "data": {
      "image/png": "[encoded data removed]",
      "text/plain": [
       "<Figure size 720x720 with 1 Axes>"
      ]
     },
     "metadata": {
      "needs_background": "light"
     },
     "output_type": "display_data"
    }
   ],
   "source": [
    "pd.DataFrame(df.groupby('auteur').mean().reset_index()).plot.bar(x='auteur', y='Pourcentage interrogatives', figsize=(10,10))"
   ]
  },
  {
   "cell_type": "markdown",
   "metadata": {},
   "source": [
    "- Chiffres  "
   ]
  },
  {
   "cell_type": "markdown",
   "metadata": {},
   "source": [
    "- Repères d'espace et de temps "
   ]
  },
  {
   "cell_type": "code",
   "execution_count": null,
   "metadata": {},
   "outputs": [],
   "source": [
    "def spatiotemp(texte):\n",
    "    "
   ]
  },
  {
   "cell_type": "markdown",
   "metadata": {},
   "source": [
    "- Mentions de personnes "
   ]
  },
  {
   "cell_type": "code",
   "execution_count": null,
   "metadata": {},
   "outputs": [],
   "source": []
  },
  {
   "cell_type": "code",
   "execution_count": 129,
   "metadata": {},
   "outputs": [],
   "source": [
    "text = df.texte.iloc[13]"
   ]
  },
  {
   "cell_type": "code",
   "execution_count": 130,
   "metadata": {},
   "outputs": [],
   "source": [
    "nlp=spacy.load('fr_core_news_sm')"
   ]
  },
  {
   "cell_type": "code",
   "execution_count": 131,
   "metadata": {},
   "outputs": [],
   "source": [
    "doc=nlp(text)"
   ]
  },
  {
   "cell_type": "code",
   "execution_count": 140,
   "metadata": {},
   "outputs": [
    {
     "data": {
      "text/plain": [
       "(attentats de Paris,\n",
       " Salah Abdeslam,\n",
       " Molenbeek,\n",
       " Catherine Nay,\n",
       " Salah Abdeslam,\n",
       " Molenbeek,\n",
       " Abdeslam,\n",
       " Abdeslam,\n",
       " Molenbeek,\n",
       " Bruxelles,\n",
       " Donald Trump,\n",
       " Bruxelles,\n",
       " Molenbeek,\n",
       " Abdessatar Dahmane,\n",
       " Commandant Massoud,\n",
       " Medhi Némouche,\n",
       " Bruxelles,\n",
       " Kouachi,\n",
       " Coulibali,\n",
       " Charlie Hebdo,\n",
       " Ayub El Khazani,\n",
       " TGV,\n",
       " Paris,\n",
       " Abdelhamid Abaoud,\n",
       " Hier,\n",
       " François Hollande,\n",
       " Charles Michel,\n",
       " Obama,\n",
       " La France,\n",
       " Justice Belge,\n",
       " Salah Abdeslam,\n",
       " Paris,\n",
       " Syrie,\n",
       " France,\n",
       " Belgique)"
      ]
     },
     "execution_count": 140,
     "metadata": {},
     "output_type": "execute_result"
    }
   ],
   "source": [
    "doc.ents"
   ]
  },
  {
   "cell_type": "code",
   "execution_count": 132,
   "metadata": {},
   "outputs": [
    {
     "name": "stderr",
     "output_type": "stream",
     "text": [
      "/Users/Nadir/opt/anaconda3/lib/python3.7/site-packages/spacy/displacy/__init__.py:94: UserWarning: [W011] It looks like you're calling displacy.serve from within a Jupyter notebook or a similar environment. This likely means you're already running a local web server, so there's no need to make displaCy start another one. Instead, you should be able to replace displacy.serve with displacy.render to show the visualization.\n",
      "  warnings.warn(Warnings.W011)\n"
     ]
    },
    {
     "data": {
      "text/html": [
       "<span class=\"tex2jax_ignore\"><!DOCTYPE html>\n",
       "<html lang=\"fr\">\n",
       "    <head>\n",
       "        <title>displaCy</title>\n",
       "    </head>\n",
       "\n",
       "    <body style=\"font-size: 16px; font-family: -apple-system, BlinkMacSystemFont, 'Segoe UI', Helvetica, Arial, sans-serif, 'Apple Color Emoji', 'Segoe UI Emoji', 'Segoe UI Symbol'; padding: 4rem 2rem; direction: ltr\">\n",
       "<figure style=\"margin-bottom: 6rem\">\n",
       "<div class=\"entities\" style=\"line-height: 2.5; direction: ltr\">W.B. : Le dernier suspect des sanglants \n",
       "<mark class=\"entity\" style=\"background: #ddd; padding: 0.45em 0.6em; margin: 0 0.25em; line-height: 1; border-radius: 0.35em;\">\n",
       "    attentats de Paris\n",
       "    <span style=\"font-size: 0.8em; font-weight: bold; line-height: 1; border-radius: 0.35em; text-transform: uppercase; vertical-align: middle; margin-left: 0.5rem\">MISC</span>\n",
       "</mark>\n",
       " \n",
       "<mark class=\"entity\" style=\"background: #ddd; padding: 0.45em 0.6em; margin: 0 0.25em; line-height: 1; border-radius: 0.35em;\">\n",
       "    Salah Abdeslam\n",
       "    <span style=\"font-size: 0.8em; font-weight: bold; line-height: 1; border-radius: 0.35em; text-transform: uppercase; vertical-align: middle; margin-left: 0.5rem\">PER</span>\n",
       "</mark>\n",
       " a été capturé hier dans la commune de \n",
       "<mark class=\"entity\" style=\"background: #ff9561; padding: 0.45em 0.6em; margin: 0 0.25em; line-height: 1; border-radius: 0.35em;\">\n",
       "    Molenbeek\n",
       "    <span style=\"font-size: 0.8em; font-weight: bold; line-height: 1; border-radius: 0.35em; text-transform: uppercase; vertical-align: middle; margin-left: 0.5rem\">LOC</span>\n",
       "</mark>\n",
       " à 16 h 40. Nous en parlons depuis ce matin, \n",
       "<mark class=\"entity\" style=\"background: #ddd; padding: 0.45em 0.6em; margin: 0 0.25em; line-height: 1; border-radius: 0.35em;\">\n",
       "    Catherine Nay\n",
       "    <span style=\"font-size: 0.8em; font-weight: bold; line-height: 1; border-radius: 0.35em; text-transform: uppercase; vertical-align: middle; margin-left: 0.5rem\">PER</span>\n",
       "</mark>\n",
       "... C.N : Quand nous l'avons appris, nos pensées émues sont aussitôt allées vers les familles des victimes. Cette arrestation ne ramènera évidemment pas à la vie ceux qu'ils pleurent. Mais ce doit être pour eux un premier soulagement: que \n",
       "<mark class=\"entity\" style=\"background: #ddd; padding: 0.45em 0.6em; margin: 0 0.25em; line-height: 1; border-radius: 0.35em;\">\n",
       "    Salah Abdeslam\n",
       "    <span style=\"font-size: 0.8em; font-weight: bold; line-height: 1; border-radius: 0.35em; text-transform: uppercase; vertical-align: middle; margin-left: 0.5rem\">PER</span>\n",
       "</mark>\n",
       " ait été capturé vivant signifie qu'il va devoir s'expliquer sur ses actes odieux. Ce sera le début de leur travail de deuil. Repéré à \n",
       "<mark class=\"entity\" style=\"background: #ddd; padding: 0.45em 0.6em; margin: 0 0.25em; line-height: 1; border-radius: 0.35em;\">\n",
       "    Molenbeek\n",
       "    <span style=\"font-size: 0.8em; font-weight: bold; line-height: 1; border-radius: 0.35em; text-transform: uppercase; vertical-align: middle; margin-left: 0.5rem\">MISC</span>\n",
       "</mark>\n",
       ", au lendemain des attentats, apparemment, \n",
       "<mark class=\"entity\" style=\"background: #ddd; padding: 0.45em 0.6em; margin: 0 0.25em; line-height: 1; border-radius: 0.35em;\">\n",
       "    Abdeslam\n",
       "    <span style=\"font-size: 0.8em; font-weight: bold; line-height: 1; border-radius: 0.35em; text-transform: uppercase; vertical-align: middle; margin-left: 0.5rem\">PER</span>\n",
       "</mark>\n",
       " y est resté. Il a bénéficié d'un soutien logistique. Mais de quelle ampleur ? Son interpellation est-elle le fruit de la chance ? Ce sont ses appels désespérés à des proches qui ont fini par guider les enquêteurs jusqu'à sa dernière planque. \n",
       "<mark class=\"entity\" style=\"background: #ddd; padding: 0.45em 0.6em; margin: 0 0.25em; line-height: 1; border-radius: 0.35em;\">\n",
       "    Abdeslam\n",
       "    <span style=\"font-size: 0.8em; font-weight: bold; line-height: 1; border-radius: 0.35em; text-transform: uppercase; vertical-align: middle; margin-left: 0.5rem\">PER</span>\n",
       "</mark>\n",
       " est vivant parce-que c'est un trouillard. Le 13 novembre, il ne s'est pas fait sauter comme son frère. Il a jeté sa ceinture d'explosifs dans une poubelle et a appelé des amis à \n",
       "<mark class=\"entity\" style=\"background: #ddd; padding: 0.45em 0.6em; margin: 0 0.25em; line-height: 1; border-radius: 0.35em;\">\n",
       "    Molenbeek\n",
       "    <span style=\"font-size: 0.8em; font-weight: bold; line-height: 1; border-radius: 0.35em; text-transform: uppercase; vertical-align: middle; margin-left: 0.5rem\">PER</span>\n",
       "</mark>\n",
       " pour venir le chercher. W.B. Molenbeek, une banlieue de \n",
       "<mark class=\"entity\" style=\"background: #ff9561; padding: 0.45em 0.6em; margin: 0 0.25em; line-height: 1; border-radius: 0.35em;\">\n",
       "    Bruxelles\n",
       "    <span style=\"font-size: 0.8em; font-weight: bold; line-height: 1; border-radius: 0.35em; text-transform: uppercase; vertical-align: middle; margin-left: 0.5rem\">LOC</span>\n",
       "</mark>\n",
       ". qu'après les attentats \n",
       "<mark class=\"entity\" style=\"background: #ddd; padding: 0.45em 0.6em; margin: 0 0.25em; line-height: 1; border-radius: 0.35em;\">\n",
       "    Donald Trump\n",
       "    <span style=\"font-size: 0.8em; font-weight: bold; line-height: 1; border-radius: 0.35em; text-transform: uppercase; vertical-align: middle; margin-left: 0.5rem\">PER</span>\n",
       "</mark>\n",
       " qualifiait de trou à rats... C.N : Cette banlieue de la terreur est une commune de 50 000 habitants, à 15 mn à pied du centre de \n",
       "<mark class=\"entity\" style=\"background: #ff9561; padding: 0.45em 0.6em; margin: 0 0.25em; line-height: 1; border-radius: 0.35em;\">\n",
       "    Bruxelles\n",
       "    <span style=\"font-size: 0.8em; font-weight: bold; line-height: 1; border-radius: 0.35em; text-transform: uppercase; vertical-align: middle; margin-left: 0.5rem\">LOC</span>\n",
       "</mark>\n",
       ". Composé de micro quartiers où plus de 100 nationalités cohabitent. Avec le chômage, la pauvreté, depuis plusieurs années, le poids de la religion s'y fait de plus en plus sentir. Les réseaux salafistes quadrillent les rues pour alpaguer les jeunes. Depuis des années, derrière chaque attentat, il y une halte à \n",
       "<mark class=\"entity\" style=\"background: #ff9561; padding: 0.45em 0.6em; margin: 0 0.25em; line-height: 1; border-radius: 0.35em;\">\n",
       "    Molenbeek\n",
       "    <span style=\"font-size: 0.8em; font-weight: bold; line-height: 1; border-radius: 0.35em; text-transform: uppercase; vertical-align: middle; margin-left: 0.5rem\">LOC</span>\n",
       "</mark>\n",
       ". \n",
       "<mark class=\"entity\" style=\"background: #ddd; padding: 0.45em 0.6em; margin: 0 0.25em; line-height: 1; border-radius: 0.35em;\">\n",
       "    Abdessatar Dahmane\n",
       "    <span style=\"font-size: 0.8em; font-weight: bold; line-height: 1; border-radius: 0.35em; text-transform: uppercase; vertical-align: middle; margin-left: 0.5rem\">PER</span>\n",
       "</mark>\n",
       " impliqué dans l'assassinat du \n",
       "<mark class=\"entity\" style=\"background: #ddd; padding: 0.45em 0.6em; margin: 0 0.25em; line-height: 1; border-radius: 0.35em;\">\n",
       "    Commandant Massoud\n",
       "    <span style=\"font-size: 0.8em; font-weight: bold; line-height: 1; border-radius: 0.35em; text-transform: uppercase; vertical-align: middle; margin-left: 0.5rem\">PER</span>\n",
       "</mark>\n",
       ", en 2001, y vivait et il est considéré aujourd'hui, comme l'un des principaux responsables des attentats de novembre. Ainsi, \n",
       "<mark class=\"entity\" style=\"background: #ddd; padding: 0.45em 0.6em; margin: 0 0.25em; line-height: 1; border-radius: 0.35em;\">\n",
       "    Medhi Némouche\n",
       "    <span style=\"font-size: 0.8em; font-weight: bold; line-height: 1; border-radius: 0.35em; text-transform: uppercase; vertical-align: middle; margin-left: 0.5rem\">PER</span>\n",
       "</mark>\n",
       ", auteur de l'attentat contre le musée juif à \n",
       "<mark class=\"entity\" style=\"background: #ff9561; padding: 0.45em 0.6em; margin: 0 0.25em; line-height: 1; border-radius: 0.35em;\">\n",
       "    Bruxelles\n",
       "    <span style=\"font-size: 0.8em; font-weight: bold; line-height: 1; border-radius: 0.35em; text-transform: uppercase; vertical-align: middle; margin-left: 0.5rem\">LOC</span>\n",
       "</mark>\n",
       " en 2014. Ainsi, les frères \n",
       "<mark class=\"entity\" style=\"background: #7aecec; padding: 0.45em 0.6em; margin: 0 0.25em; line-height: 1; border-radius: 0.35em;\">\n",
       "    Kouachi\n",
       "    <span style=\"font-size: 0.8em; font-weight: bold; line-height: 1; border-radius: 0.35em; text-transform: uppercase; vertical-align: middle; margin-left: 0.5rem\">ORG</span>\n",
       "</mark>\n",
       " et \n",
       "<mark class=\"entity\" style=\"background: #7aecec; padding: 0.45em 0.6em; margin: 0 0.25em; line-height: 1; border-radius: 0.35em;\">\n",
       "    Coulibali\n",
       "    <span style=\"font-size: 0.8em; font-weight: bold; line-height: 1; border-radius: 0.35em; text-transform: uppercase; vertical-align: middle; margin-left: 0.5rem\">ORG</span>\n",
       "</mark>\n",
       " impliqués dans les attentats de \n",
       "<mark class=\"entity\" style=\"background: #7aecec; padding: 0.45em 0.6em; margin: 0 0.25em; line-height: 1; border-radius: 0.35em;\">\n",
       "    Charlie Hebdo\n",
       "    <span style=\"font-size: 0.8em; font-weight: bold; line-height: 1; border-radius: 0.35em; text-transform: uppercase; vertical-align: middle; margin-left: 0.5rem\">ORG</span>\n",
       "</mark>\n",
       " et de l’épicerie cacher en janvier 2015. Ainsi \n",
       "<mark class=\"entity\" style=\"background: #ddd; padding: 0.45em 0.6em; margin: 0 0.25em; line-height: 1; border-radius: 0.35em;\">\n",
       "    Ayub El Khazani\n",
       "    <span style=\"font-size: 0.8em; font-weight: bold; line-height: 1; border-radius: 0.35em; text-transform: uppercase; vertical-align: middle; margin-left: 0.5rem\">PER</span>\n",
       "</mark>\n",
       " désarmé dans le \n",
       "<mark class=\"entity\" style=\"background: #ddd; padding: 0.45em 0.6em; margin: 0 0.25em; line-height: 1; border-radius: 0.35em;\">\n",
       "    TGV\n",
       "    <span style=\"font-size: 0.8em; font-weight: bold; line-height: 1; border-radius: 0.35em; text-transform: uppercase; vertical-align: middle; margin-left: 0.5rem\">MISC</span>\n",
       "</mark>\n",
       " Amsterdam \n",
       "<mark class=\"entity\" style=\"background: #ff9561; padding: 0.45em 0.6em; margin: 0 0.25em; line-height: 1; border-radius: 0.35em;\">\n",
       "    Paris\n",
       "    <span style=\"font-size: 0.8em; font-weight: bold; line-height: 1; border-radius: 0.35em; text-transform: uppercase; vertical-align: middle; margin-left: 0.5rem\">LOC</span>\n",
       "</mark>\n",
       " en août dernier. Ainsi la cellule constituée autour d'\n",
       "<mark class=\"entity\" style=\"background: #ddd; padding: 0.45em 0.6em; margin: 0 0.25em; line-height: 1; border-radius: 0.35em;\">\n",
       "    Abdelhamid Abaoud\n",
       "    <span style=\"font-size: 0.8em; font-weight: bold; line-height: 1; border-radius: 0.35em; text-transform: uppercase; vertical-align: middle; margin-left: 0.5rem\">PER</span>\n",
       "</mark>\n",
       ", organisateur des tueries de novembre. Que ce lieu soit si circonscrit est aussi une chance pour les enquêteurs. W.B. . Cette capture sonne-t-elle comme une victoire de la coopération policière franco belge ? C.N : Elle récompense le travail acharné et compliqué des forces de l'ordre et des services de renseignements des deux pays. \n",
       "<mark class=\"entity\" style=\"background: #ddd; padding: 0.45em 0.6em; margin: 0 0.25em; line-height: 1; border-radius: 0.35em;\">\n",
       "    Hier\n",
       "    <span style=\"font-size: 0.8em; font-weight: bold; line-height: 1; border-radius: 0.35em; text-transform: uppercase; vertical-align: middle; margin-left: 0.5rem\">PER</span>\n",
       "</mark>\n",
       ", la présence de \n",
       "<mark class=\"entity\" style=\"background: #ddd; padding: 0.45em 0.6em; margin: 0 0.25em; line-height: 1; border-radius: 0.35em;\">\n",
       "    François Hollande\n",
       "    <span style=\"font-size: 0.8em; font-weight: bold; line-height: 1; border-radius: 0.35em; text-transform: uppercase; vertical-align: middle; margin-left: 0.5rem\">PER</span>\n",
       "</mark>\n",
       " au côté du premier ministre belge \n",
       "<mark class=\"entity\" style=\"background: #ddd; padding: 0.45em 0.6em; margin: 0 0.25em; line-height: 1; border-radius: 0.35em;\">\n",
       "    Charles Michel\n",
       "    <span style=\"font-size: 0.8em; font-weight: bold; line-height: 1; border-radius: 0.35em; text-transform: uppercase; vertical-align: middle; margin-left: 0.5rem\">PER</span>\n",
       "</mark>\n",
       " renforçait ce sentiment alors qu'elle n'était que pure coïncidence. Le président participait à un conseil européen sur les migrants. Ces mystères nous échappent, feignons d'en être les organisateurs. L'image était assez forte pour qu'\n",
       "<mark class=\"entity\" style=\"background: #ddd; padding: 0.45em 0.6em; margin: 0 0.25em; line-height: 1; border-radius: 0.35em;\">\n",
       "    Obama\n",
       "    <span style=\"font-size: 0.8em; font-weight: bold; line-height: 1; border-radius: 0.35em; text-transform: uppercase; vertical-align: middle; margin-left: 0.5rem\">PER</span>\n",
       "</mark>\n",
       " les appelle tous les deux pour les féliciter. Le président a prononcé les mots qu'on attendait de lui. \n",
       "<mark class=\"entity\" style=\"background: #ff9561; padding: 0.45em 0.6em; margin: 0 0.25em; line-height: 1; border-radius: 0.35em;\">\n",
       "    La France\n",
       "    <span style=\"font-size: 0.8em; font-weight: bold; line-height: 1; border-radius: 0.35em; text-transform: uppercase; vertical-align: middle; margin-left: 0.5rem\">LOC</span>\n",
       "</mark>\n",
       " demande à la \n",
       "<mark class=\"entity\" style=\"background: #7aecec; padding: 0.45em 0.6em; margin: 0 0.25em; line-height: 1; border-radius: 0.35em;\">\n",
       "    Justice Belge\n",
       "    <span style=\"font-size: 0.8em; font-weight: bold; line-height: 1; border-radius: 0.35em; text-transform: uppercase; vertical-align: middle; margin-left: 0.5rem\">ORG</span>\n",
       "</mark>\n",
       " l'extradition de \n",
       "<mark class=\"entity\" style=\"background: #ddd; padding: 0.45em 0.6em; margin: 0 0.25em; line-height: 1; border-radius: 0.35em;\">\n",
       "    Salah Abdeslam\n",
       "    <span style=\"font-size: 0.8em; font-weight: bold; line-height: 1; border-radius: 0.35em; text-transform: uppercase; vertical-align: middle; margin-left: 0.5rem\">PER</span>\n",
       "</mark>\n",
       ". Il y aura un procès à \n",
       "<mark class=\"entity\" style=\"background: #ff9561; padding: 0.45em 0.6em; margin: 0 0.25em; line-height: 1; border-radius: 0.35em;\">\n",
       "    Paris\n",
       "    <span style=\"font-size: 0.8em; font-weight: bold; line-height: 1; border-radius: 0.35em; text-transform: uppercase; vertical-align: middle; margin-left: 0.5rem\">LOC</span>\n",
       "</mark>\n",
       ". On en saura plus sur ces islamistes, fanatisés, surarmés, déterminés et organisés. Il s'est félicité sur la coopération entre les deux pays &quot;elle a été intense même si cela a été long&quot;. Mais il l'a dit cette arrestation n'est pas une conclusion définitive. Le combat n'est pas terminé. Tous les réseaux conduisent en \n",
       "<mark class=\"entity\" style=\"background: #ff9561; padding: 0.45em 0.6em; margin: 0 0.25em; line-height: 1; border-radius: 0.35em;\">\n",
       "    Syrie\n",
       "    <span style=\"font-size: 0.8em; font-weight: bold; line-height: 1; border-radius: 0.35em; text-transform: uppercase; vertical-align: middle; margin-left: 0.5rem\">LOC</span>\n",
       "</mark>\n",
       " et il averti le niveau de la menace est très élevé en \n",
       "<mark class=\"entity\" style=\"background: #ff9561; padding: 0.45em 0.6em; margin: 0 0.25em; line-height: 1; border-radius: 0.35em;\">\n",
       "    France\n",
       "    <span style=\"font-size: 0.8em; font-weight: bold; line-height: 1; border-radius: 0.35em; text-transform: uppercase; vertical-align: middle; margin-left: 0.5rem\">LOC</span>\n",
       "</mark>\n",
       " et en \n",
       "<mark class=\"entity\" style=\"background: #ff9561; padding: 0.45em 0.6em; margin: 0 0.25em; line-height: 1; border-radius: 0.35em;\">\n",
       "    Belgique\n",
       "    <span style=\"font-size: 0.8em; font-weight: bold; line-height: 1; border-radius: 0.35em; text-transform: uppercase; vertical-align: middle; margin-left: 0.5rem\">LOC</span>\n",
       "</mark>\n",
       ".</div>\n",
       "</figure>\n",
       "</body>\n",
       "</html></span>"
      ],
      "text/plain": [
       "<IPython.core.display.HTML object>"
      ]
     },
     "metadata": {},
     "output_type": "display_data"
    },
    {
     "name": "stdout",
     "output_type": "stream",
     "text": [
      "\n",
      "Using the 'ent' visualizer\n",
      "Serving on http://0.0.0.0:5000 ...\n",
      "\n",
      "Shutting down server on port 5000.\n"
     ]
    }
   ],
   "source": [
    "displacy.serve(doc, style=\"ent\")"
   ]
  },
  {
   "cell_type": "code",
   "execution_count": null,
   "metadata": {},
   "outputs": [],
   "source": []
  }
 ],
 "metadata": {
  "kernelspec": {
   "display_name": "Python 3",
   "language": "python",
   "name": "python3"
  },
  "language_info": {
   "codemirror_mode": {
    "name": "ipython",
    "version": 3
   },
   "file_extension": ".py",
   "mimetype": "text/x-python",
   "name": "python",
   "nbconvert_exporter": "python",
   "pygments_lexer": "ipython3",
   "version": "3.7.7"
  }
 },
 "nbformat": 4,
 "nbformat_minor": 4
}
