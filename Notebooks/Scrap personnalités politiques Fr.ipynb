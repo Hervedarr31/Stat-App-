{
 "cells": [
  {
   "cell_type": "markdown",
   "metadata": {},
   "source": [
    "# Scrap personnalités politiques Fr"
   ]
  },
  {
   "cell_type": "code",
   "execution_count": 1,
   "metadata": {},
   "outputs": [],
   "source": [
    "import bs4\n",
    "import urllib\n",
    "import pandas as pd\n",
    "import re\n",
    "\n",
    "from urllib import request"
   ]
  },
  {
   "cell_type": "markdown",
   "metadata": {},
   "source": [
    "On utilise une page wikipédia qui liste les ministres de la Ve république"
   ]
  },
  {
   "cell_type": "code",
   "execution_count": 7,
   "metadata": {},
   "outputs": [],
   "source": [
    "url_wiki_ministres_1 = \"https://fr.wikipedia.org/wiki/Cat%C3%A9gorie:Ministre_de_la_Cinqui%C3%A8me_R%C3%A9publique\"\n",
    "url_wiki_ministres_2 = \"https://fr.wikipedia.org/w/index.php?title=Cat%C3%A9gorie:Ministre_de_la_Cinqui%C3%A8me_R%C3%A9publique&pageuntil=Paul%2C+Christian%0AChristian+Paul+%28homme+politique%29#mw-pages\"\n",
    "url_wiki_ministres_3 = \"https://fr.wikipedia.org/w/index.php?title=Cat%C3%A9gorie:Ministre_de_la_Cinqui%C3%A8me_R%C3%A9publique&pagefrom=Paul%2C+Christian%0AChristian+Paul+%28homme+politique%29#mw-pages\"\n",
    "\n",
    "URL=[url_wiki_ministres_1,url_wiki_ministres_2,url_wiki_ministres_3]\n",
    "\n",
    "Ministres=[]\n",
    "for url in URL:\n",
    "    request_text = request.urlopen(url).read()\n",
    "    page = bs4.BeautifulSoup(request_text, \"lxml\")\n",
    "\n",
    "    mydivs = page.find_all(\"div\", {\"class\": \"mw-category\"})\n",
    "    Ministres+=[element.get('title') for element in mydivs[0].find_all('a')]\n",
    "\n",
    "# On retire les '(homme/femme politique,..)' de certains noms\n",
    "Ministres_Ve=[re.sub('[\\(].*?[\\)]','',ministre) for ministre in Ministres]"
   ]
  },
  {
   "cell_type": "markdown",
   "metadata": {},
   "source": [
    "On utilise la page Wikipédia qui liste les présidents de la République (on se restreint à la Ve République)."
   ]
  },
  {
   "cell_type": "code",
   "execution_count": 13,
   "metadata": {},
   "outputs": [],
   "source": [
    "url_wiki_president=\"https://fr.wikipedia.org/wiki/Liste_des_pr%C3%A9sidents_de_la_R%C3%A9publique_fran%C3%A7aise\"\n",
    "request_text = request.urlopen(url_wiki_president).read()\n",
    "page=bs4.BeautifulSoup(request_text, \"lxml\")\n",
    "\n",
    "mydivs=page.find_all('table', {\"class\": \"wikitable\"})[-1]\n",
    "Presidents=[element.get('title') for element in mydivs.find_all('a')[1:]]"
   ]
  },
  {
   "cell_type": "code",
   "execution_count": 14,
   "metadata": {},
   "outputs": [
    {
     "data": {
      "text/plain": [
       "['Charles de Gaulle',\n",
       " 'Jacques Chirac',\n",
       " 'Georges Pompidou',\n",
       " 'François Mitterrand',\n",
       " \"Valéry Giscard d'Estaing\",\n",
       " 'Nicolas Sarkozy',\n",
       " 'Emmanuel Macron',\n",
       " 'François Hollande']"
      ]
     },
     "execution_count": 14,
     "metadata": {},
     "output_type": "execute_result"
    }
   ],
   "source": [
    "Presidents"
   ]
  },
  {
   "cell_type": "markdown",
   "metadata": {},
   "source": [
    "On récupère aussi l'ensemble des parlementaires via https://data.assemblee-nationale.fr/acteurs/deputes-en-exercice et\n",
    "https://data.senat.fr/les-senateurs/"
   ]
  },
  {
   "cell_type": "code",
   "execution_count": 26,
   "metadata": {},
   "outputs": [],
   "source": [
    "df = pd.read_csv('liste_deputes_libre_office.csv')\n",
    "\n",
    "Deputes = [df.loc[i]['Prénom'] + ' ' + df.loc[i]['Nom'] for i in range(len(df)) ]"
   ]
  },
  {
   "cell_type": "code",
   "execution_count": 2,
   "metadata": {},
   "outputs": [],
   "source": [
    "df = pd.read_excel('liste_senateurs.xls')\n",
    "df_actif = df[df['État']=='ACTIF'].reset_index()\n",
    "\n",
    "Senateurs = [df_actif.loc[i]['Prénom usuel'] + ' ' + df_actif.loc[i]['Nom usuel'] for i in range(len(df_actif)) ]"
   ]
  },
  {
   "cell_type": "markdown",
   "metadata": {},
   "source": [
    "On rajoute les députés européens élus en 2019"
   ]
  },
  {
   "cell_type": "code",
   "execution_count": 6,
   "metadata": {},
   "outputs": [],
   "source": [
    "url_wiki_eurodeputes=\"https://fr.wikipedia.org/wiki/%C3%89lections_europ%C3%A9ennes_de_2019_en_France\"\n",
    "request_text = request.urlopen(url_wiki_eurodeputes).read()\n",
    "page=bs4.BeautifulSoup(request_text, \"lxml\")\n",
    "\n",
    "eurodeputes=[]\n",
    "for i in range(1,7):\n",
    "    length = len(page.find_all('div', {'class': 'colonnes'})[-i].find_all('li'))\n",
    "    eurodeputes += [page.find_all('div', {'class': 'colonnes'})[-i].find_all('li')[j].find('a').get('title') for j in range(length)]"
   ]
  },
  {
   "cell_type": "code",
   "execution_count": 7,
   "metadata": {},
   "outputs": [
    {
     "data": {
      "text/plain": [
       "79"
      ]
     },
     "execution_count": 7,
     "metadata": {},
     "output_type": "execute_result"
    }
   ],
   "source": [
    "len(eurodeputes)"
   ]
  },
  {
   "cell_type": "markdown",
   "metadata": {},
   "source": [
    "Si l'on veut les candidats aux élections présidentielles 2017:"
   ]
  },
  {
   "cell_type": "code",
   "execution_count": 146,
   "metadata": {},
   "outputs": [],
   "source": [
    "url_candidats_2017 = \"https://fr.wikipedia.org/wiki/%C3%89lection_pr%C3%A9sidentielle_fran%C3%A7aise_de_2017#Candidats\"\n",
    "request_text = request.urlopen(url_candidats_2017).read()\n",
    "page = bs4.BeautifulSoup(request_text, \"lxml\")\n",
    "\n",
    "mydivs=page.find_all('table', {\"class\": \"wikitable\"})[-1]\n",
    "Candidats_2017=[element.get('title') for element in mydivs.find_all('a')]\n",
    "\n",
    "while None in Candidats_2017:\n",
    "    Candidats_2017.remove(None)"
   ]
  },
  {
   "cell_type": "code",
   "execution_count": null,
   "metadata": {},
   "outputs": [],
   "source": []
  }
 ],
 "metadata": {
  "kernelspec": {
   "display_name": "Python 3",
   "language": "python",
   "name": "python3"
  },
  "language_info": {
   "codemirror_mode": {
    "name": "ipython",
    "version": 3
   },
   "file_extension": ".py",
   "mimetype": "text/x-python",
   "name": "python",
   "nbconvert_exporter": "python",
   "pygments_lexer": "ipython3",
   "version": "3.7.3"
  }
 },
 "nbformat": 4,
 "nbformat_minor": 2
}
