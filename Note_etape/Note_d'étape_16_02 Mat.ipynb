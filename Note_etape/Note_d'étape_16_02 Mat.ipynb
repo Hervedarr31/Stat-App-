{
 "cells": [
  {
   "cell_type": "markdown",
   "metadata": {},
   "source": [
    "<center> <h1>Sujet : La politique des éditorialistes<h1> </center>\n",
    "<center> <h1>Analyse NLP du récit politique dans les médias français<h1>  </center>\n"
   ]
  },
  {
   "cell_type": "markdown",
   "metadata": {},
   "source": [
    "Encadrants : Salomé Do et Etienne Ollion"
   ]
  },
  {
   "cell_type": "markdown",
   "metadata": {},
   "source": [
    "La première étape de notre travail fut de nous documenter sur le NLP et sur le thème de notre sujet : les éditorialistes politiques français. Deux articles ont particulièrement structuré notre travail, *A simple but tough to beat baseline for sentence embeddings* de Arora S, Liang Y, Ma T et *Grandir l'événement. L'art et la manière de l'éditorialiste* de Riutord P. Ces papiers nous ont permis de mieux comprendre ce que nous pouvions faire avec le NLP et de saisir les caractéristiques spécifiques de 'l'édito politique' au sein des genres journalistiques. Ce travail préalable réalisé, nous avons pu problématiser notre sujet à partir de la base de données et de la lecture d'éditos. Nous avons donc défini à l'aide de nos encadrants 4 grands thèmes à explorer : \n",
    "1. Comment les éditorialistes argumentent-ils et y a-t-il des différences notables entre les radios ? (Usage d'arguments historiques, scientifiques, d'arguments d'autorité, plus ou moins grande technicité ...)\n",
    "2. Sur quelles régions du monde portent les éditos et arrive-t-il souvent que les éditorialistes aient recours à des comparaisons internationales ?\n",
    "3. Y a-t-il réellement une ressemblance entre le vocabulaire employé par l'éditorialiste et celui du commentateur sportif ? "
   ]
  },
  {
   "cell_type": "markdown",
   "metadata": {},
   "source": [
    "Il a été convenu que nous commencerions d'abord par travailler sur notre base en usant de méthodes de NLP 'classiques' puis que nous appliquerions des méthodes plus sophistiquées afin de pouvoir comparer les résultats obtenus. Nous vous présentons donc ici des analyses tirés de modèles simples qui utilisent surout la librairie spaCy."
   ]
  },
  {
   "cell_type": "code",
   "execution_count": 26,
   "metadata": {},
   "outputs": [
    {
     "name": "stderr",
     "output_type": "stream",
     "text": [
      "100%|██████████████████████████████████████████████████████████████████████████████████| 28/28 [06:28<00:00, 13.89s/it]\n",
      "C:\\Users\\veve1\\Anaconda3\\lib\\site-packages\\spacy\\language.py:639: UserWarning: [W033] Training a new parser or NER using a model with no lexeme normalization table. This may degrade the performance of the model to some degree. If this is intentional or the language you're using doesn't have a normalization table, please ignore this warning. If this is surprising, make sure you have the spacy-lookups-data package installed. The languages with lexeme normalization tables are currently: da, de, el, en, id, lb, pt, ru, sr, ta, th.\n",
      "  **kwargs\n"
     ]
    }
   ],
   "source": [
    "%run Code_Hervé-Copy1.ipynb"
   ]
  },
  {
   "cell_type": "markdown",
   "metadata": {},
   "source": [
    "## Quels sont les acteurs qui peuplent leur récit"
   ]
  },
  {
   "cell_type": "markdown",
   "metadata": {},
   "source": [
    "Afin de repérer de qui les éditorialistes parlent, nous avons utilisé le **Named Entity Recognizer (NER)** de SpaCy qui à partir de modèles entrainés au préalable, détecte des entitées nommées et leur assigne 4 labels possibles: **LOC** s'il s'agit d'un lieu, **PER** pour une personne, **ORG** pour une organisation et **MISC** si le **NER** ne parvient pas vraiment à attribuer un label."
   ]
  },
  {
   "cell_type": "markdown",
   "metadata": {},
   "source": [
    "Les éditorialistes commentant l'actualité politique, on s'intéresse aux personnalités politiques qui sont evoquées dans les éditos. Pour cela, on crée une nouvelle entité nommée, **POL** pour Politicien qui repère toutes les personnes citées (grâce au **NER**) qui appartiennent à une liste de personnalités politiques.\n",
    "Cette liste contient tous les ministres et présidents de la Ve République (c'est un choix arbitraire mais qui semble pertinent au vu des événements politiques couverts), les députés, sénateurs et eurodéputés en activité ainsi que les candidats à la présidentielle 2017 (qui consitue une bonne partie de nos éditos)."
   ]
  },
  {
   "cell_type": "markdown",
   "metadata": {},
   "source": [
    "On peut donc analyser, qui sont parmis les personnalités politiques de notre liste, les plus citées."
   ]
  },
  {
   "cell_type": "code",
   "execution_count": 27,
   "metadata": {},
   "outputs": [
    {
     "data": {
      "text/plain": [
       "<matplotlib.axes._subplots.AxesSubplot at 0x23b490d76d8>"
      ]
     },
     "execution_count": 27,
     "metadata": {},
     "output_type": "execute_result"
    },
    {
     "data": {
      "image/png": "[encoded data removed]",
      "text/plain": [
       "<Figure size 432x288 with 1 Axes>"
      ]
     },
     "metadata": {
      "needs_background": "light"
     },
     "output_type": "display_data"
    }
   ],
   "source": [
    "df_citations.groupby('Personnalité')['Nb Citations'].sum().sort_values(ascending=False).head(25).plot(kind='bar')"
   ]
  },
  {
   "cell_type": "markdown",
   "metadata": {},
   "source": [
    "Emmanuel Macron, ministre, candidat à la présidentielle puis président de la République est la personnalité politique la plus citée. Vient ensuite Francçois Hollande, président pendant toute la période pré-campagne et campagne. Les (gros) candidats à la présidentielle 2017 sont également beacoup cités, du fait de l'année d'élection présidentielle 2017. D'anciens présidents comme Jacques Chirac ou François Mitterand sont fréquement cités.\n",
    "\n",
    "Il est important de garder en tête que l'algorithme de trouve que ce qu l'on lui fait chercher, à savoir des noms issus d'une liste de ministres et présidents (passés et actuels), députés, sénateurs , eurodéputés et candidats en 2017. Et les noms à orthographes multiples peuvent se retrouver sous plusieurs formes. \n",
    "L'exemple qui suit le montre bien :"
   ]
  },
  {
   "cell_type": "code",
   "execution_count": 28,
   "metadata": {},
   "outputs": [
    {
     "data": {
      "text/html": [
       "<div>\n",
       "<style scoped>\n",
       "    .dataframe tbody tr th:only-of-type {\n",
       "        vertical-align: middle;\n",
       "    }\n",
       "\n",
       "    .dataframe tbody tr th {\n",
       "        vertical-align: top;\n",
       "    }\n",
       "\n",
       "    .dataframe thead th {\n",
       "        text-align: right;\n",
       "    }\n",
       "</style>\n",
       "<table border=\"1\" class=\"dataframe\">\n",
       "  <thead>\n",
       "    <tr style=\"text-align: right;\">\n",
       "      <th></th>\n",
       "      <th>Auteur</th>\n",
       "      <th>Personnalité</th>\n",
       "      <th>Nb Citations</th>\n",
       "    </tr>\n",
       "  </thead>\n",
       "  <tbody>\n",
       "    <tr>\n",
       "      <th>7</th>\n",
       "      <td>Dominique Tenza</td>\n",
       "      <td>Marine Le Pen</td>\n",
       "      <td>1</td>\n",
       "    </tr>\n",
       "    <tr>\n",
       "      <th>88</th>\n",
       "      <td>Frédéric Says</td>\n",
       "      <td>Marine Le Pen</td>\n",
       "      <td>146</td>\n",
       "    </tr>\n",
       "    <tr>\n",
       "      <th>435</th>\n",
       "      <td>Michaël Darmon</td>\n",
       "      <td>Marine Le Pen</td>\n",
       "      <td>13</td>\n",
       "    </tr>\n",
       "    <tr>\n",
       "      <th>477</th>\n",
       "      <td>Carine Bécard</td>\n",
       "      <td>Marine Le Pen</td>\n",
       "      <td>3</td>\n",
       "    </tr>\n",
       "    <tr>\n",
       "      <th>486</th>\n",
       "      <td>Yaël Goosz</td>\n",
       "      <td>Marine Le Pen</td>\n",
       "      <td>10</td>\n",
       "    </tr>\n",
       "  </tbody>\n",
       "</table>\n",
       "</div>"
      ],
      "text/plain": [
       "              Auteur   Personnalité Nb Citations\n",
       "7    Dominique Tenza  Marine Le Pen            1\n",
       "88     Frédéric Says  Marine Le Pen          146\n",
       "435   Michaël Darmon  Marine Le Pen           13\n",
       "477    Carine Bécard  Marine Le Pen            3\n",
       "486       Yaël Goosz  Marine Le Pen           10"
      ]
     },
     "execution_count": 28,
     "metadata": {},
     "output_type": "execute_result"
    }
   ],
   "source": [
    "df_citations[df_citations['Personnalité']=='Marine Le Pen'].head()"
   ]
  },
  {
   "cell_type": "code",
   "execution_count": 29,
   "metadata": {},
   "outputs": [
    {
     "data": {
      "text/html": [
       "<div>\n",
       "<style scoped>\n",
       "    .dataframe tbody tr th:only-of-type {\n",
       "        vertical-align: middle;\n",
       "    }\n",
       "\n",
       "    .dataframe tbody tr th {\n",
       "        vertical-align: top;\n",
       "    }\n",
       "\n",
       "    .dataframe thead th {\n",
       "        text-align: right;\n",
       "    }\n",
       "</style>\n",
       "<table border=\"1\" class=\"dataframe\">\n",
       "  <thead>\n",
       "    <tr style=\"text-align: right;\">\n",
       "      <th></th>\n",
       "      <th>Auteur</th>\n",
       "      <th>Personnalité</th>\n",
       "      <th>Nb Citations</th>\n",
       "    </tr>\n",
       "  </thead>\n",
       "  <tbody>\n",
       "    <tr>\n",
       "      <th>208</th>\n",
       "      <td>Thomas Legrand</td>\n",
       "      <td>Marine le Pen</td>\n",
       "      <td>138</td>\n",
       "    </tr>\n",
       "    <tr>\n",
       "      <th>358</th>\n",
       "      <td>Alain Duhamel</td>\n",
       "      <td>Marine le Pen</td>\n",
       "      <td>111</td>\n",
       "    </tr>\n",
       "    <tr>\n",
       "      <th>552</th>\n",
       "      <td>Olivier Bost</td>\n",
       "      <td>Marine le Pen</td>\n",
       "      <td>22</td>\n",
       "    </tr>\n",
       "    <tr>\n",
       "      <th>655</th>\n",
       "      <td>Alba Ventura</td>\n",
       "      <td>Marine le Pen</td>\n",
       "      <td>272</td>\n",
       "    </tr>\n",
       "    <tr>\n",
       "      <th>852</th>\n",
       "      <td>Julien Fautrat</td>\n",
       "      <td>Marine le Pen</td>\n",
       "      <td>11</td>\n",
       "    </tr>\n",
       "  </tbody>\n",
       "</table>\n",
       "</div>"
      ],
      "text/plain": [
       "             Auteur   Personnalité Nb Citations\n",
       "208  Thomas Legrand  Marine le Pen          138\n",
       "358   Alain Duhamel  Marine le Pen          111\n",
       "552    Olivier Bost  Marine le Pen           22\n",
       "655    Alba Ventura  Marine le Pen          272\n",
       "852  Julien Fautrat  Marine le Pen           11"
      ]
     },
     "execution_count": 29,
     "metadata": {},
     "output_type": "execute_result"
    }
   ],
   "source": [
    "df_citations[df_citations['Personnalité']=='Marine le Pen'].head()"
   ]
  },
  {
   "cell_type": "markdown",
   "metadata": {},
   "source": [
    "## L'argumentation de l'éditorialiste :\n",
    "    \n",
    "   ### Le journaliste impartial aux arguments étayés"
   ]
  },
  {
   "cell_type": "markdown",
   "metadata": {},
   "source": [
    "Il est courant que l'éditorialiste cite des données factuelles, des chiffres, des rapports ou études pour étayer son propos. Nous avons donc créé une nouvelle entitité nommée, **EXP** pour expertise, qui correspond à l'évocation de rapport,d'études, chiffres...\n",
    "Elle utilise des **matcher**, qui repèrent des bouts de phrases selon des règles fixés à l'avance. Par exemple, le mot rapport suivi d'un déterminant et d'un nombre, comme dans *Un Rapport de 2004*"
   ]
  },
  {
   "cell_type": "code",
   "execution_count": 30,
   "metadata": {},
   "outputs": [
    {
     "name": "stdout",
     "output_type": "stream",
     "text": [
      "rapport sur le Climat\n",
      "rapport de 2020\n",
      "2020\n",
      "9%\n",
      "deux français\n"
     ]
    }
   ],
   "source": [
    "test = nlp('Le dernier rapport sur le Climat, un rapport de 2020, par d\\'une diminution de 9% des GES...deux français sur trois')\n",
    "for match_id, start, end in clear_matcher_rapport(test):\n",
    "    print(str(test[start:end]))\n",
    "           \n",
    "for match_id, start, end in clear_matcher_chiffres(test):\n",
    "    print(str(test[start:end]))"
   ]
  },
  {
   "cell_type": "code",
   "execution_count": 31,
   "metadata": {},
   "outputs": [
    {
     "data": {
      "text/html": [
       "<div>\n",
       "<style scoped>\n",
       "    .dataframe tbody tr th:only-of-type {\n",
       "        vertical-align: middle;\n",
       "    }\n",
       "\n",
       "    .dataframe tbody tr th {\n",
       "        vertical-align: top;\n",
       "    }\n",
       "\n",
       "    .dataframe thead th {\n",
       "        text-align: right;\n",
       "    }\n",
       "</style>\n",
       "<table border=\"1\" class=\"dataframe\">\n",
       "  <thead>\n",
       "    <tr style=\"text-align: right;\">\n",
       "      <th></th>\n",
       "      <th>Auteur</th>\n",
       "      <th>Citations</th>\n",
       "      <th>Nbre</th>\n",
       "    </tr>\n",
       "  </thead>\n",
       "  <tbody>\n",
       "    <tr>\n",
       "      <th>530</th>\n",
       "      <td>Frédéric Says</td>\n",
       "      <td>28 ans</td>\n",
       "      <td>1</td>\n",
       "    </tr>\n",
       "    <tr>\n",
       "      <th>5180</th>\n",
       "      <td>Dominique Seux</td>\n",
       "      <td>20.000 postes</td>\n",
       "      <td>1</td>\n",
       "    </tr>\n",
       "    <tr>\n",
       "      <th>732</th>\n",
       "      <td>Frédéric Says</td>\n",
       "      <td>2017 une classe</td>\n",
       "      <td>1</td>\n",
       "    </tr>\n",
       "    <tr>\n",
       "      <th>4614</th>\n",
       "      <td>Dominique Seux</td>\n",
       "      <td>dix millions</td>\n",
       "      <td>1</td>\n",
       "    </tr>\n",
       "    <tr>\n",
       "      <th>1072</th>\n",
       "      <td>Thomas Legrand</td>\n",
       "      <td>deux cas</td>\n",
       "      <td>1</td>\n",
       "    </tr>\n",
       "    <tr>\n",
       "      <th>4993</th>\n",
       "      <td>Dominique Seux</td>\n",
       "      <td>260 milliards</td>\n",
       "      <td>2</td>\n",
       "    </tr>\n",
       "    <tr>\n",
       "      <th>3127</th>\n",
       "      <td>Alba Ventura</td>\n",
       "      <td>2001</td>\n",
       "      <td>5</td>\n",
       "    </tr>\n",
       "    <tr>\n",
       "      <th>2087</th>\n",
       "      <td>Alain Duhamel</td>\n",
       "      <td>577 sièges</td>\n",
       "      <td>1</td>\n",
       "    </tr>\n",
       "    <tr>\n",
       "      <th>532</th>\n",
       "      <td>Frédéric Says</td>\n",
       "      <td>30 ans</td>\n",
       "      <td>7</td>\n",
       "    </tr>\n",
       "    <tr>\n",
       "      <th>208</th>\n",
       "      <td>Frédéric Says</td>\n",
       "      <td>sept déclinaisons</td>\n",
       "      <td>1</td>\n",
       "    </tr>\n",
       "  </tbody>\n",
       "</table>\n",
       "</div>"
      ],
      "text/plain": [
       "              Auteur          Citations Nbre\n",
       "530    Frédéric Says             28 ans    1\n",
       "5180  Dominique Seux      20.000 postes    1\n",
       "732    Frédéric Says    2017 une classe    1\n",
       "4614  Dominique Seux       dix millions    1\n",
       "1072  Thomas Legrand           deux cas    1\n",
       "4993  Dominique Seux      260 milliards    2\n",
       "3127    Alba Ventura               2001    5\n",
       "2087   Alain Duhamel         577 sièges    1\n",
       "532    Frédéric Says             30 ans    7\n",
       "208    Frédéric Says  sept déclinaisons    1"
      ]
     },
     "execution_count": 31,
     "metadata": {},
     "output_type": "execute_result"
    }
   ],
   "source": [
    "df_expertise.sample(10)"
   ]
  },
  {
   "cell_type": "markdown",
   "metadata": {},
   "source": [
    "On se rend compte que dans les évocations de ce qu'on attend comme étant des 'Données chiffrées', des dates et des nombres qui n'ont pas grand choses à voir avec l'argumentation apparaissent. On peut au moins espérer que si notre 'filet' a des mailles trop fines, on ne rate pas grand chose..."
   ]
  },
  {
   "cell_type": "markdown",
   "metadata": {},
   "source": [
    "On regarde qui parmi les éditorialistes présents dans notre base utilise le plus ces arguments \"d'expertise\"."
   ]
  },
  {
   "cell_type": "code",
   "execution_count": 32,
   "metadata": {},
   "outputs": [
    {
     "data": {
      "text/plain": [
       "<matplotlib.axes._subplots.AxesSubplot at 0x23b135ea748>"
      ]
     },
     "execution_count": 32,
     "metadata": {},
     "output_type": "execute_result"
    },
    {
     "data": {
      "image/png": "[encoded data removed]",
      "text/plain": [
       "<Figure size 432x288 with 1 Axes>"
      ]
     },
     "metadata": {
      "needs_background": "light"
     },
     "output_type": "display_data"
    }
   ],
   "source": [
    "df_expertise.groupby('Auteur')['Nbre'].sum().sort_values(ascending=False).plot(kind='bar')"
   ]
  },
  {
   "cell_type": "markdown",
   "metadata": {},
   "source": [
    "Pour les 2 questions évoquées ci-dessus, la faiblesse de la méthode vient du fait qu'il faut lister ou alors décrire entièrement tout ce que l'algorithme doit trouver. L'algorithme ne trouve que ce qui est exactement comme il doit le trouver.\n",
    "Comme il n'est pas possible de préciser l'ensemble des cas possibles, il passera parfois à côté.\n",
    "Ces problèmes seront résolus en entraînant nos propres modèles."
   ]
  },
  {
   "cell_type": "code",
   "execution_count": null,
   "metadata": {},
   "outputs": [],
   "source": []
  }
 ],
 "metadata": {
  "kernelspec": {
   "display_name": "Python 3",
   "language": "python",
   "name": "python3"
  },
  "language_info": {
   "codemirror_mode": {
    "name": "ipython",
    "version": 3
   },
   "file_extension": ".py",
   "mimetype": "text/x-python",
   "name": "python",
   "nbconvert_exporter": "python",
   "pygments_lexer": "ipython3",
   "version": "3.7.4"
  }
 },
 "nbformat": 4,
 "nbformat_minor": 2
}
