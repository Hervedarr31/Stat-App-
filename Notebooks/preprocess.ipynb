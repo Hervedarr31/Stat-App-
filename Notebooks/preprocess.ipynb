{
 "cells": [
  {
   "cell_type": "code",
   "execution_count": 1,
   "metadata": {},
   "outputs": [],
   "source": [
    "import pandas as pd\n",
    "import numpy as np\n",
    "from transformers import BertTokenizer\n",
    "tokenizer = BertTokenizer.from_pretrained('bert-base-uncased', do_lower_case=True)\n",
    "import torch"
   ]
  },
  {
   "cell_type": "code",
   "execution_count": 2,
   "metadata": {},
   "outputs": [],
   "source": [
    "def zero(text):\n",
    "    l=[0]*len(text)\n",
    "    return(l)"
   ]
  },
  {
   "cell_type": "code",
   "execution_count": 3,
   "metadata": {},
   "outputs": [],
   "source": [
    "def get_user(l):\n",
    "    ll=[]\n",
    "    for x in l:\n",
    "        ll.append(x['user'])\n",
    "    return(list(set((ll))))"
   ]
  },
  {
   "cell_type": "code",
   "execution_count": 4,
   "metadata": {},
   "outputs": [],
   "source": [
    "def index_by_user(l):\n",
    "    dico = {}\n",
    "    for user in get_user(l):\n",
    "        dico[user] = []\n",
    "        for x in l:\n",
    "            if x['user'] == user:\n",
    "                dico[user].append(x['start_offset'])\n",
    "                dico[user].append(x['end_offset'])\n",
    "    return(dico)"
   ]
  },
  {
   "cell_type": "code",
   "execution_count": 5,
   "metadata": {},
   "outputs": [],
   "source": [
    "def delete_not_read(df):\n",
    "    data = df.copy()\n",
    "    columns = list(data.columns)\n",
    "    columns.remove('index')\n",
    "    columns.remove('text')\n",
    "    l = []\n",
    "    for user in columns:\n",
    "        for i in range(len(data)):\n",
    "                if (data[user][i][0] == 1) and (i not in l):\n",
    "                    l.append(i)\n",
    "    \n",
    "    return(data.drop(l, axis = 0))"
   ]
  },
  {
   "cell_type": "code",
   "execution_count": 6,
   "metadata": {},
   "outputs": [],
   "source": [
    "def max_len(df):\n",
    "    max_len = 0\n",
    "\n",
    "    for sent in df['text']:\n",
    "\n",
    "        input_ids = tokenizer.encode(sent, add_special_tokens=True)\n",
    "\n",
    "        # Update the maximum sentence length.\n",
    "        max_len = max(max_len, len(input_ids))\n",
    "\n",
    "    return(max_len)"
   ]
  },
  {
   "cell_type": "code",
   "execution_count": 7,
   "metadata": {},
   "outputs": [],
   "source": [
    "def tokenize_and_mask(text, maxlen):\n",
    "    encoded_dict = tokenizer.encode_plus(\n",
    "                        sent,                      # Sentence to encode.\n",
    "                        add_special_tokens = True, # Add '[CLS]' and '[SEP]'\n",
    "                        max_length = maxlen,           # Pad & truncate all sentences.\n",
    "                        padding = 'longest',\n",
    "                        return_attention_mask = True,   # Construct attn. masks.\n",
    "                        return_tensors = 'pt',     # Return pytorch tensors.\n",
    "                   )\n",
    "    return(encoded_dict['input_ids'], encoded_dict['attention_mask'])"
   ]
  },
  {
   "cell_type": "code",
   "execution_count": 8,
   "metadata": {},
   "outputs": [],
   "source": [
    "def clean_doccano(df):\n",
    "    data = pd.DataFrame()\n",
    "    data['text'] = df['text'].apply(lambda x: (\" \".join((str(x).split()))).replace('\\\\',\"\"))\n",
    "    data['index'] = df['annotations'].apply(index_by_user)\n",
    "    print(\"Création de la liste binaire...\")\n",
    "    for x in list(set(df['annotations'].apply(get_user).sum())):\n",
    "        data[f'{x}'] = data['text'].apply(zero)\n",
    "    for i in range(len(data)):    \n",
    "        dico = data['index'][i]\n",
    "        for user in dico.keys():\n",
    "            l = data[f'{user}'].values[i]\n",
    "            index = dico[user]\n",
    "            for j in range(0,len(index),2):\n",
    "                l[index[j]:index[j+1]] = [1]*(index[j+1]-index[j])\n",
    "            data.loc[i, f'{user}'] = l\n",
    "    print(\"... suppression des texte non annotés ...\")\n",
    "    data = delete_not_read(data)\n",
    "    maxlen = max_len(data)\n",
    "    print(\"...tokenization du texte\")\n",
    "    data['token'] = data['text'].apply(lambda x: tokenize_and_mask(x, maxlen)[0])\n",
    "    data['mask'] = data['text'].apply(lambda x: tokenize_and_mask(x, maxlen)[1])\n",
    "    bdd = data.drop(['text', 'index'], axis = 1)\n",
    "    i=1\n",
    "    for user in list(bdd.columns)[:-2]:\n",
    "        bdd.rename( columns = {user : f'Annotateur {i}'}, inplace = True)\n",
    "        i+=1\n",
    "    return(bdd)"
   ]
  },
  {
   "cell_type": "code",
   "execution_count": null,
   "metadata": {},
   "outputs": [],
   "source": []
  },
  {
   "cell_type": "code",
   "execution_count": null,
   "metadata": {},
   "outputs": [],
   "source": []
  }
 ],
 "metadata": {
  "kernelspec": {
   "display_name": "Python 3",
   "language": "python",
   "name": "python3"
  },
  "language_info": {
   "codemirror_mode": {
    "name": "ipython",
    "version": 3
   },
   "file_extension": ".py",
   "mimetype": "text/x-python",
   "name": "python",
   "nbconvert_exporter": "python",
   "pygments_lexer": "ipython3",
   "version": "3.7.7"
  }
 },
 "nbformat": 4,
 "nbformat_minor": 4
}
