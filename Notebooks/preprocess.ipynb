{
 "cells": [
  {
   "cell_type": "code",
   "execution_count": 71,
   "metadata": {},
   "outputs": [],
   "source": [
    "import pandas as pd\n",
    "import numpy as np\n",
    "dff = pd.read_json('/Users/Nadir/Downloads/file.json', lines = True)\n",
    "from transformers import BertTokenizer\n",
    "tokenizer = BertTokenizer.from_pretrained('bert-base-uncased', do_lower_case=True)\n",
    "import torch"
   ]
  },
  {
   "cell_type": "code",
   "execution_count": 3,
   "metadata": {},
   "outputs": [],
   "source": [
    "df=dff.copy()"
   ]
  },
  {
   "cell_type": "code",
   "execution_count": 7,
   "metadata": {},
   "outputs": [],
   "source": [
    "def zero(text):\n",
    "    l=[0]*len(text)\n",
    "    return(l)"
   ]
  },
  {
   "cell_type": "code",
   "execution_count": 8,
   "metadata": {},
   "outputs": [],
   "source": [
    "def get_user(l):\n",
    "    ll=[]\n",
    "    for x in l:\n",
    "        ll.append(x['user'])\n",
    "    return(list(set((ll))))"
   ]
  },
  {
   "cell_type": "code",
   "execution_count": 9,
   "metadata": {},
   "outputs": [],
   "source": [
    "def index_by_user(l):\n",
    "    dico = {}\n",
    "    for user in get_user(l):\n",
    "        dico[user] = []\n",
    "        for x in l:\n",
    "            if x['user'] == user:\n",
    "                dico[user].append(x['start_offset'])\n",
    "                dico[user].append(x['end_offset'])\n",
    "    return(dico)"
   ]
  },
  {
   "cell_type": "code",
   "execution_count": 66,
   "metadata": {},
   "outputs": [],
   "source": [
    "for i in range(len(data)):    \n",
    "    dico = data['index'][i]\n",
    "    for user in dico.keys():\n",
    "        l = data[f'{user}'].values[i]\n",
    "        index = dico[user]\n",
    "        for j in range(0,len(index),2):\n",
    "            l[index[j]:index[j+1]] = [1]*(index[j+1]-index[j])\n",
    "        data.loc[i, f'{user}'] = l"
   ]
  },
  {
   "cell_type": "code",
   "execution_count": 189,
   "metadata": {},
   "outputs": [],
   "source": [
    "def delete_not_read(df):\n",
    "    data = df.copy()\n",
    "    columns = list(data.columns)\n",
    "    columns.remove('index')\n",
    "    columns.remove('text')\n",
    "    l = []\n",
    "    for user in columns:\n",
    "        for i in range(len(data)):\n",
    "                if (data[user][i][0] == 1) and (i not in l):\n",
    "                    l.append(i)\n",
    "    \n",
    "    return(data.drop(l, axis = 0))"
   ]
  },
  {
   "cell_type": "code",
   "execution_count": 165,
   "metadata": {},
   "outputs": [],
   "source": [
    "def max_len(df):\n",
    "    max_len = 0\n",
    "\n",
    "    for sent in df['text']:\n",
    "\n",
    "        input_ids = tokenizer.encode(sent, add_special_tokens=True)\n",
    "\n",
    "        # Update the maximum sentence length.\n",
    "        max_len = max(max_len, len(input_ids))\n",
    "\n",
    "    return(max_len)"
   ]
  },
  {
   "cell_type": "code",
   "execution_count": 117,
   "metadata": {},
   "outputs": [],
   "source": [
    "def tokenize_and_mask(text, maxlen):\n",
    "    encoded_dict = tokenizer.encode_plus(\n",
    "                        sent,                      # Sentence to encode.\n",
    "                        add_special_tokens = True, # Add '[CLS]' and '[SEP]'\n",
    "                        max_length = maxlen,           # Pad & truncate all sentences.\n",
    "                        padding = 'longest',\n",
    "                        return_attention_mask = True,   # Construct attn. masks.\n",
    "                        return_tensors = 'pt',     # Return pytorch tensors.\n",
    "                   )\n",
    "    return(encoded_dict['input_ids'], encoded_dict['attention_mask'])"
   ]
  },
  {
   "cell_type": "code",
   "execution_count": 194,
   "metadata": {},
   "outputs": [],
   "source": [
    "def clean_doccano(df):\n",
    "    data = pd.DataFrame()\n",
    "    data['text'] = df['text'].apply(lambda x: (\" \".join((str(x).split()))).replace('\\\\',\"\"))\n",
    "    data['index'] = df['annotations'].apply(index_by_user)\n",
    "    print(\"Création de la liste binaire...\")\n",
    "    for x in list(set(df['annotations'].apply(get_user).sum())):\n",
    "        data[f'{x}'] = data['text'].apply(zero)\n",
    "    for i in range(len(data)):    \n",
    "        dico = data['index'][i]\n",
    "        for user in dico.keys():\n",
    "            l = data[f'{user}'].values[i]\n",
    "            index = dico[user]\n",
    "            for j in range(0,len(index),2):\n",
    "                l[index[j]:index[j+1]] = [1]*(index[j+1]-index[j])\n",
    "            data.loc[i, f'{user}'] = l\n",
    "    print(\"... suppression des texte non annotés ...\")\n",
    "    data = delete_not_read(data)\n",
    "    maxlen = max_len(data)\n",
    "    print(\"...tokenization du texte\")\n",
    "    data['token'] = data['text'].apply(lambda x: tokenize_and_mask(x, maxlen)[0])\n",
    "    data['mask'] = data['text'].apply(lambda x: tokenize_and_mask(x, maxlen)[1])\n",
    "    bdd = data.drop(['text', 'index'], axis = 1)\n",
    "    i=1\n",
    "    for user in list(bdd.columns)[:-2]:\n",
    "        bdd.rename( columns = {user : f'Annotateur {i}'}, inplace = True)\n",
    "        i+=1\n",
    "    return(bdd)"
   ]
  },
  {
   "cell_type": "code",
   "execution_count": 195,
   "metadata": {},
   "outputs": [],
   "source": [
    "herve = pd.read_json( '/Users/Nadir/Downloads/file (1).json' ,lines = True)"
   ]
  },
  {
   "cell_type": "code",
   "execution_count": 196,
   "metadata": {},
   "outputs": [
    {
     "name": "stdout",
     "output_type": "stream",
     "text": [
      "Création de la liste binaire...\n",
      "... suppression des texte non annotés ...\n",
      "...tokenization du texte\n"
     ]
    }
   ],
   "source": [
    "r = clean_doccano(herve)"
   ]
  },
  {
   "cell_type": "code",
   "execution_count": 197,
   "metadata": {},
   "outputs": [
    {
     "data": {
      "text/html": [
       "<div>\n",
       "<style scoped>\n",
       "    .dataframe tbody tr th:only-of-type {\n",
       "        vertical-align: middle;\n",
       "    }\n",
       "\n",
       "    .dataframe tbody tr th {\n",
       "        vertical-align: top;\n",
       "    }\n",
       "\n",
       "    .dataframe thead th {\n",
       "        text-align: right;\n",
       "    }\n",
       "</style>\n",
       "<table border=\"1\" class=\"dataframe\">\n",
       "  <thead>\n",
       "    <tr style=\"text-align: right;\">\n",
       "      <th></th>\n",
       "      <th>Annotateur 1</th>\n",
       "      <th>Annotateur 2</th>\n",
       "      <th>token</th>\n",
       "      <th>mask</th>\n",
       "    </tr>\n",
       "  </thead>\n",
       "  <tbody>\n",
       "    <tr>\n",
       "      <th>0</th>\n",
       "      <td>[0, 0, 0, 0, 0, 0, 0, 0, 0, 0, 0, 0, 0, 0, 0, ...</td>\n",
       "      <td>[0, 0, 0, 0, 0, 0, 0, 0, 0, 0, 0, 0, 0, 0, 0, ...</td>\n",
       "      <td>[[tensor(101), tensor(19387), tensor(2140), te...</td>\n",
       "      <td>[[tensor(1), tensor(1), tensor(1), tensor(1), ...</td>\n",
       "    </tr>\n",
       "    <tr>\n",
       "      <th>1</th>\n",
       "      <td>[0, 0, 0, 0, 0, 0, 0, 0, 0, 0, 0, 0, 0, 0, 0, ...</td>\n",
       "      <td>[0, 0, 0, 0, 0, 0, 0, 0, 0, 0, 0, 0, 0, 0, 0, ...</td>\n",
       "      <td>[[tensor(101), tensor(19387), tensor(2140), te...</td>\n",
       "      <td>[[tensor(1), tensor(1), tensor(1), tensor(1), ...</td>\n",
       "    </tr>\n",
       "    <tr>\n",
       "      <th>2</th>\n",
       "      <td>[0, 0, 0, 0, 0, 0, 0, 0, 0, 0, 0, 0, 0, 0, 0, ...</td>\n",
       "      <td>[0, 0, 0, 0, 0, 0, 0, 0, 0, 0, 0, 0, 0, 0, 0, ...</td>\n",
       "      <td>[[tensor(101), tensor(19387), tensor(2140), te...</td>\n",
       "      <td>[[tensor(1), tensor(1), tensor(1), tensor(1), ...</td>\n",
       "    </tr>\n",
       "    <tr>\n",
       "      <th>3</th>\n",
       "      <td>[0, 0, 0, 0, 0, 0, 0, 0, 0, 0, 0, 0, 0, 0, 0, ...</td>\n",
       "      <td>[0, 0, 0, 0, 0, 0, 0, 0, 0, 0, 0, 0, 0, 0, 0, ...</td>\n",
       "      <td>[[tensor(101), tensor(19387), tensor(2140), te...</td>\n",
       "      <td>[[tensor(1), tensor(1), tensor(1), tensor(1), ...</td>\n",
       "    </tr>\n",
       "    <tr>\n",
       "      <th>4</th>\n",
       "      <td>[0, 0, 0, 0, 0, 0, 0, 0, 0, 0, 0, 0, 0, 0, 0, ...</td>\n",
       "      <td>[0, 0, 0, 0, 0, 0, 0, 0, 0, 0, 0, 0, 0, 0, 0, ...</td>\n",
       "      <td>[[tensor(101), tensor(19387), tensor(2140), te...</td>\n",
       "      <td>[[tensor(1), tensor(1), tensor(1), tensor(1), ...</td>\n",
       "    </tr>\n",
       "    <tr>\n",
       "      <th>...</th>\n",
       "      <td>...</td>\n",
       "      <td>...</td>\n",
       "      <td>...</td>\n",
       "      <td>...</td>\n",
       "    </tr>\n",
       "    <tr>\n",
       "      <th>131</th>\n",
       "      <td>[0, 0, 0, 0, 0, 0, 0, 0, 0, 0, 0, 0, 0, 0, 0, ...</td>\n",
       "      <td>[0, 0, 0, 0, 0, 0, 0, 0, 0, 0, 0, 0, 0, 0, 0, ...</td>\n",
       "      <td>[[tensor(101), tensor(19387), tensor(2140), te...</td>\n",
       "      <td>[[tensor(1), tensor(1), tensor(1), tensor(1), ...</td>\n",
       "    </tr>\n",
       "    <tr>\n",
       "      <th>181</th>\n",
       "      <td>[0, 0, 0, 0, 0, 0, 0, 0, 0, 0, 0, 0, 0, 0, 0, ...</td>\n",
       "      <td>[0, 0, 0, 0, 0, 0, 0, 0, 0, 0, 0, 0, 0, 0, 0, ...</td>\n",
       "      <td>[[tensor(101), tensor(19387), tensor(2140), te...</td>\n",
       "      <td>[[tensor(1), tensor(1), tensor(1), tensor(1), ...</td>\n",
       "    </tr>\n",
       "    <tr>\n",
       "      <th>182</th>\n",
       "      <td>[0, 0, 0, 0, 0, 0, 0, 0, 0, 0, 0, 0, 0, 0, 0, ...</td>\n",
       "      <td>[0, 0, 0, 0, 0, 0, 0, 0, 0, 0, 0, 0, 0, 0, 0, ...</td>\n",
       "      <td>[[tensor(101), tensor(19387), tensor(2140), te...</td>\n",
       "      <td>[[tensor(1), tensor(1), tensor(1), tensor(1), ...</td>\n",
       "    </tr>\n",
       "    <tr>\n",
       "      <th>183</th>\n",
       "      <td>[0, 0, 0, 0, 0, 0, 0, 0, 0, 0, 0, 0, 0, 0, 0, ...</td>\n",
       "      <td>[0, 0, 0, 0, 0, 0, 0, 0, 0, 0, 0, 0, 0, 0, 0, ...</td>\n",
       "      <td>[[tensor(101), tensor(19387), tensor(2140), te...</td>\n",
       "      <td>[[tensor(1), tensor(1), tensor(1), tensor(1), ...</td>\n",
       "    </tr>\n",
       "    <tr>\n",
       "      <th>184</th>\n",
       "      <td>[0, 0, 0, 0, 0, 0, 0, 0, 0, 0, 0, 0, 0, 0, 0, ...</td>\n",
       "      <td>[0, 0, 0, 0, 0, 0, 0, 0, 0, 0, 0, 0, 0, 0, 0, ...</td>\n",
       "      <td>[[tensor(101), tensor(19387), tensor(2140), te...</td>\n",
       "      <td>[[tensor(1), tensor(1), tensor(1), tensor(1), ...</td>\n",
       "    </tr>\n",
       "  </tbody>\n",
       "</table>\n",
       "<p>134 rows × 4 columns</p>\n",
       "</div>"
      ],
      "text/plain": [
       "                                          Annotateur 1  \\\n",
       "0    [0, 0, 0, 0, 0, 0, 0, 0, 0, 0, 0, 0, 0, 0, 0, ...   \n",
       "1    [0, 0, 0, 0, 0, 0, 0, 0, 0, 0, 0, 0, 0, 0, 0, ...   \n",
       "2    [0, 0, 0, 0, 0, 0, 0, 0, 0, 0, 0, 0, 0, 0, 0, ...   \n",
       "3    [0, 0, 0, 0, 0, 0, 0, 0, 0, 0, 0, 0, 0, 0, 0, ...   \n",
       "4    [0, 0, 0, 0, 0, 0, 0, 0, 0, 0, 0, 0, 0, 0, 0, ...   \n",
       "..                                                 ...   \n",
       "131  [0, 0, 0, 0, 0, 0, 0, 0, 0, 0, 0, 0, 0, 0, 0, ...   \n",
       "181  [0, 0, 0, 0, 0, 0, 0, 0, 0, 0, 0, 0, 0, 0, 0, ...   \n",
       "182  [0, 0, 0, 0, 0, 0, 0, 0, 0, 0, 0, 0, 0, 0, 0, ...   \n",
       "183  [0, 0, 0, 0, 0, 0, 0, 0, 0, 0, 0, 0, 0, 0, 0, ...   \n",
       "184  [0, 0, 0, 0, 0, 0, 0, 0, 0, 0, 0, 0, 0, 0, 0, ...   \n",
       "\n",
       "                                          Annotateur 2  \\\n",
       "0    [0, 0, 0, 0, 0, 0, 0, 0, 0, 0, 0, 0, 0, 0, 0, ...   \n",
       "1    [0, 0, 0, 0, 0, 0, 0, 0, 0, 0, 0, 0, 0, 0, 0, ...   \n",
       "2    [0, 0, 0, 0, 0, 0, 0, 0, 0, 0, 0, 0, 0, 0, 0, ...   \n",
       "3    [0, 0, 0, 0, 0, 0, 0, 0, 0, 0, 0, 0, 0, 0, 0, ...   \n",
       "4    [0, 0, 0, 0, 0, 0, 0, 0, 0, 0, 0, 0, 0, 0, 0, ...   \n",
       "..                                                 ...   \n",
       "131  [0, 0, 0, 0, 0, 0, 0, 0, 0, 0, 0, 0, 0, 0, 0, ...   \n",
       "181  [0, 0, 0, 0, 0, 0, 0, 0, 0, 0, 0, 0, 0, 0, 0, ...   \n",
       "182  [0, 0, 0, 0, 0, 0, 0, 0, 0, 0, 0, 0, 0, 0, 0, ...   \n",
       "183  [0, 0, 0, 0, 0, 0, 0, 0, 0, 0, 0, 0, 0, 0, 0, ...   \n",
       "184  [0, 0, 0, 0, 0, 0, 0, 0, 0, 0, 0, 0, 0, 0, 0, ...   \n",
       "\n",
       "                                                 token  \\\n",
       "0    [[tensor(101), tensor(19387), tensor(2140), te...   \n",
       "1    [[tensor(101), tensor(19387), tensor(2140), te...   \n",
       "2    [[tensor(101), tensor(19387), tensor(2140), te...   \n",
       "3    [[tensor(101), tensor(19387), tensor(2140), te...   \n",
       "4    [[tensor(101), tensor(19387), tensor(2140), te...   \n",
       "..                                                 ...   \n",
       "131  [[tensor(101), tensor(19387), tensor(2140), te...   \n",
       "181  [[tensor(101), tensor(19387), tensor(2140), te...   \n",
       "182  [[tensor(101), tensor(19387), tensor(2140), te...   \n",
       "183  [[tensor(101), tensor(19387), tensor(2140), te...   \n",
       "184  [[tensor(101), tensor(19387), tensor(2140), te...   \n",
       "\n",
       "                                                  mask  \n",
       "0    [[tensor(1), tensor(1), tensor(1), tensor(1), ...  \n",
       "1    [[tensor(1), tensor(1), tensor(1), tensor(1), ...  \n",
       "2    [[tensor(1), tensor(1), tensor(1), tensor(1), ...  \n",
       "3    [[tensor(1), tensor(1), tensor(1), tensor(1), ...  \n",
       "4    [[tensor(1), tensor(1), tensor(1), tensor(1), ...  \n",
       "..                                                 ...  \n",
       "131  [[tensor(1), tensor(1), tensor(1), tensor(1), ...  \n",
       "181  [[tensor(1), tensor(1), tensor(1), tensor(1), ...  \n",
       "182  [[tensor(1), tensor(1), tensor(1), tensor(1), ...  \n",
       "183  [[tensor(1), tensor(1), tensor(1), tensor(1), ...  \n",
       "184  [[tensor(1), tensor(1), tensor(1), tensor(1), ...  \n",
       "\n",
       "[134 rows x 4 columns]"
      ]
     },
     "execution_count": 197,
     "metadata": {},
     "output_type": "execute_result"
    }
   ],
   "source": [
    "r"
   ]
  },
  {
   "cell_type": "code",
   "execution_count": null,
   "metadata": {},
   "outputs": [],
   "source": []
  }
 ],
 "metadata": {
  "kernelspec": {
   "display_name": "Python 3",
   "language": "python",
   "name": "python3"
  },
  "language_info": {
   "codemirror_mode": {
    "name": "ipython",
    "version": 3
   },
   "file_extension": ".py",
   "mimetype": "text/x-python",
   "name": "python",
   "nbconvert_exporter": "python",
   "pygments_lexer": "ipython3",
   "version": "3.7.7"
  }
 },
 "nbformat": 4,
 "nbformat_minor": 4
}
