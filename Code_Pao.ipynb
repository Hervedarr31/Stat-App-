{
 "cells": [
  {
   "cell_type": "code",
   "execution_count": 3,
   "metadata": {},
   "outputs": [],
   "source": [
    "import pandas as pd \n",
    "import matplotlib.pyplot as plt\n",
    "from functools import reduce\n",
    "from operator import add\n",
    "#import spacy\n",
    "#from spacy import displacy\n",
    "#from spacy.tokenizer import Tokenizer\n",
    "#from spacy.lang.fr import French\n",
    "import mysql.connector\n",
    "from mysql.connector import Error\n"
   ]
  },
  {
   "cell_type": "code",
   "execution_count": 4,
   "metadata": {},
   "outputs": [],
   "source": [
    "df = pd.read_csv(\"/Users/paolaricou/Documents/Stat-App-/2019-01-08-editos-radio.csv\")"
   ]
  },
  {
   "cell_type": "code",
   "execution_count": 30,
   "metadata": {},
   "outputs": [
    {
     "data": {
      "text/html": [
       "<div>\n",
       "<style scoped>\n",
       "    .dataframe tbody tr th:only-of-type {\n",
       "        vertical-align: middle;\n",
       "    }\n",
       "\n",
       "    .dataframe tbody tr th {\n",
       "        vertical-align: top;\n",
       "    }\n",
       "\n",
       "    .dataframe thead th {\n",
       "        text-align: right;\n",
       "    }\n",
       "</style>\n",
       "<table border=\"1\" class=\"dataframe\">\n",
       "  <thead>\n",
       "    <tr style=\"text-align: right;\">\n",
       "      <th></th>\n",
       "      <th>emission</th>\n",
       "      <th>date</th>\n",
       "      <th>auteur</th>\n",
       "      <th>texte</th>\n",
       "    </tr>\n",
       "  </thead>\n",
       "  <tbody>\n",
       "    <tr>\n",
       "      <th>0</th>\n",
       "      <td>Europe1 Nay</td>\n",
       "      <td>2015-12-05</td>\n",
       "      <td>\\n                            Catherine Nay\\n ...</td>\n",
       "      <td>Avec un chômage au plus bas, la chancelière au...</td>\n",
       "    </tr>\n",
       "    <tr>\n",
       "      <th>1</th>\n",
       "      <td>Europe1 Nay</td>\n",
       "      <td>2015-12-12</td>\n",
       "      <td>\\n                            Catherine Nay\\n ...</td>\n",
       "      <td>Donald Trump, à 69 ans, pèse 4 milliards de do...</td>\n",
       "    </tr>\n",
       "    <tr>\n",
       "      <th>2</th>\n",
       "      <td>Europe1 Nay</td>\n",
       "      <td>2015-12-19</td>\n",
       "      <td>\\n                            Catherine Nay\\n ...</td>\n",
       "      <td>\\nW.B. : François Hollande revient dans la co...</td>\n",
       "    </tr>\n",
       "    <tr>\n",
       "      <th>3</th>\n",
       "      <td>Europe1 Nay</td>\n",
       "      <td>2016-01-02</td>\n",
       "      <td>\\n                            Catherine Nay\\n ...</td>\n",
       "      <td>Que ce soit sur la déchéance de nationalité ...</td>\n",
       "    </tr>\n",
       "    <tr>\n",
       "      <th>4</th>\n",
       "      <td>Europe1 Nay</td>\n",
       "      <td>2016-01-09</td>\n",
       "      <td>\\n                            Catherine Nay\\n ...</td>\n",
       "      <td>WB : Hier, cela faisait 20 ans que François Mi...</td>\n",
       "    </tr>\n",
       "    <tr>\n",
       "      <th>...</th>\n",
       "      <td>...</td>\n",
       "      <td>...</td>\n",
       "      <td>...</td>\n",
       "      <td>...</td>\n",
       "    </tr>\n",
       "    <tr>\n",
       "      <th>2251</th>\n",
       "      <td>FrCulture Says</td>\n",
       "      <td>2019-01-08</td>\n",
       "      <td>Frédéric Says</td>\n",
       "      <td>Posture ferme, et doigt tendu. Edouard Philipp...</td>\n",
       "    </tr>\n",
       "    <tr>\n",
       "      <th>2252</th>\n",
       "      <td>FrInter Legrand</td>\n",
       "      <td>2019-01-08</td>\n",
       "      <td>Thomas Legrand</td>\n",
       "      <td>\\n            Le Rassemblement-National et LFI...</td>\n",
       "    </tr>\n",
       "    <tr>\n",
       "      <th>2253</th>\n",
       "      <td>FrInter Seux</td>\n",
       "      <td>2019-01-08</td>\n",
       "      <td>Dominique Seux</td>\n",
       "      <td>\\n            Une question toute simple ce mat...</td>\n",
       "    </tr>\n",
       "    <tr>\n",
       "      <th>2254</th>\n",
       "      <td>RTL Duhamel</td>\n",
       "      <td>2019-01-08</td>\n",
       "      <td>\\n                    Alain Duhamel\\n         ...</td>\n",
       "      <td>Édouard Philippe voulait afficher une grande f...</td>\n",
       "    </tr>\n",
       "    <tr>\n",
       "      <th>2255</th>\n",
       "      <td>RTL Ventura</td>\n",
       "      <td>2019-01-08</td>\n",
       "      <td>\\n                    Alba Ventura\\n          ...</td>\n",
       "      <td>Édouard Philippe a annoncé une série de mesure...</td>\n",
       "    </tr>\n",
       "  </tbody>\n",
       "</table>\n",
       "<p>2256 rows × 4 columns</p>\n",
       "</div>"
      ],
      "text/plain": [
       "             emission        date  \\\n",
       "0         Europe1 Nay  2015-12-05   \n",
       "1         Europe1 Nay  2015-12-12   \n",
       "2         Europe1 Nay  2015-12-19   \n",
       "3         Europe1 Nay  2016-01-02   \n",
       "4         Europe1 Nay  2016-01-09   \n",
       "...               ...         ...   \n",
       "2251   FrCulture Says  2019-01-08   \n",
       "2252  FrInter Legrand  2019-01-08   \n",
       "2253     FrInter Seux  2019-01-08   \n",
       "2254      RTL Duhamel  2019-01-08   \n",
       "2255      RTL Ventura  2019-01-08   \n",
       "\n",
       "                                                 auteur  \\\n",
       "0     \\n                            Catherine Nay\\n ...   \n",
       "1     \\n                            Catherine Nay\\n ...   \n",
       "2     \\n                            Catherine Nay\\n ...   \n",
       "3     \\n                            Catherine Nay\\n ...   \n",
       "4     \\n                            Catherine Nay\\n ...   \n",
       "...                                                 ...   \n",
       "2251                                      Frédéric Says   \n",
       "2252                                     Thomas Legrand   \n",
       "2253                                     Dominique Seux   \n",
       "2254  \\n                    Alain Duhamel\\n         ...   \n",
       "2255  \\n                    Alba Ventura\\n          ...   \n",
       "\n",
       "                                                  texte  \n",
       "0     Avec un chômage au plus bas, la chancelière au...  \n",
       "1     Donald Trump, à 69 ans, pèse 4 milliards de do...  \n",
       "2      \\nW.B. : François Hollande revient dans la co...  \n",
       "3       Que ce soit sur la déchéance de nationalité ...  \n",
       "4     WB : Hier, cela faisait 20 ans que François Mi...  \n",
       "...                                                 ...  \n",
       "2251  Posture ferme, et doigt tendu. Edouard Philipp...  \n",
       "2252  \\n            Le Rassemblement-National et LFI...  \n",
       "2253  \\n            Une question toute simple ce mat...  \n",
       "2254  Édouard Philippe voulait afficher une grande f...  \n",
       "2255  Édouard Philippe a annoncé une série de mesure...  \n",
       "\n",
       "[2256 rows x 4 columns]"
      ]
     },
     "execution_count": 30,
     "metadata": {},
     "output_type": "execute_result"
    }
   ],
   "source": [
    "df"
   ]
  },
  {
   "cell_type": "code",
   "execution_count": 63,
   "metadata": {},
   "outputs": [],
   "source": [
    "L=df['emission'].unique()\n",
    "\n",
    "#Liste par éditorialistes\n",
    "Nay=df[df['emission'] == L[0]]\n",
    "Duhamel=df[df['emission'] == L[1]]\n",
    "Ventura=df[df['emission'] == L[2]]\n",
    "Says=df[df['emission'] == L[3]]\n",
    "Legrand=df[df['emission'] == L[4]]\n",
    "Seux=df[df['emission'] == L[5]]\n",
    "Darmon=df[df['emission'] == L[6]]\n",
    "\n",
    "#Listes par radio\n",
    "FrInter=Legrand+Seux\n",
    "FrCulture=Says\n",
    "Europe1=Nay+Darmon\n",
    "RTL=Duhamel+Ventura\n",
    "\n",
    "Radio=[FrInter, FrCulture, Europe1, RTL]\n",
    "Editorialistes=[Nay, Duhamel, Ventura, Says, Legrand, Seux, Darmon]"
   ]
  },
  {
   "cell_type": "code",
   "execution_count": 6,
   "metadata": {},
   "outputs": [
    {
     "data": {
      "text/plain": [
       "'E1153 : RTL Ventura : Égalité Homme/Femme, qu\\'en est-il en france? Des inégalités persistente, \\ndevrons nous durcir les lois\\nE1154: FrCulture Says : Les prisons et leur prise en main, comment entretenir une \"paix\" carcérale, \\nen particulier pb des radicalisé. Politique, Justice, Prison. \\nE1155: Frinter Legrand: NDDL une cause populaire qui a gagné, les autorités publics et jusqu\\'où aller pour maintenir\\nl\\'ordre (qu\\'est-il d\\'ailleurs?). Politique, Autorité publique, Écologie\\nE1156 : FrInter Seux: L\\'anglais la langue de l\\'économie, LREM un parti qui innove en parlant bien anglais, \\nrencontre économique à Versailles instauré par Macron\\n\\n'"
      ]
     },
     "execution_count": 6,
     "metadata": {},
     "output_type": "execute_result"
    }
   ],
   "source": [
    "#Bref résumé d'éditos lu au hasard\n",
    "\n",
    "\"\"\"E0 (Europe 1 Nay): sur la politique allemande : l'accueil des migrants, l'europe et la réélection de Merkel \n",
    "Sujet : Immigration, Europe, Politique, Allemagne(Merkel)\n",
    "E1000 (FRInter Legrand) 2017_12_01: Politique française : Macron une voie politique en bonne position \n",
    "entre deux bords qui se déchirent. Politique\n",
    "E1151 (Frinter Dominique Seux): Les tentatives de Macron pour attirer les investisseurs étrangers sur \n",
    "L'économie française et pourquoi les français ont ils\n",
    "une si mauvaise opinion sur leur propre économie. Sujet: économie, economie industrielle, politique\n",
    "E1152: RTL Duhamel\t2018-01-22: L'avenir de le l'alliance franco- allemande à la veille des élections allemande. \n",
    "Politique Franco-Allemande\"\"\"\n",
    "#Tips : Réélection de Merkel le 14 Mars 2018 \n",
    "\"\"\"E1153 : RTL Ventura : Égalité Homme/Femme, qu'en est-il en france? Des inégalités persistente, \n",
    "devrons nous durcir les lois\n",
    "E1154: FrCulture Says : Les prisons et leur prise en main, comment entretenir une \"paix\" carcérale, \n",
    "en particulier pb des radicalisé. Politique, Justice, Prison. \n",
    "E1155: Frinter Legrand: NDDL une cause populaire qui a gagné, les autorités publics et jusqu'où aller pour maintenir\n",
    "l'ordre (qu'est-il d'ailleurs?). Politique, Autorité publique, Écologie\n",
    "E1156 : FrInter Seux: L'anglais la langue de l'économie, LREM un parti qui innove en parlant bien anglais, \n",
    "rencontre économique à Versailles instauré par Macron\n",
    "\n",
    "\"\"\""
   ]
  },
  {
   "cell_type": "code",
   "execution_count": 7,
   "metadata": {
    "scrolled": true
   },
   "outputs": [
    {
     "data": {
      "text/plain": [
       "'\\n            Le paysage politique de l’ère Macron devient lisible…  \\n        \\nOui, nous sommes dans un moment de cristallisation politique. Chacun a maintenant les éléments pour commencer à se situer sur le nouvel échiquier après les bouleversements provoqués par l’élection d’Emmanuel Macron. Nous avons un large bloc central qui occupe un espace institutionnel surdimensionné. Espace qui vient encore de s’élargir de quelques pouces par les 2 bouts. Par la gauche d’abord, \\xa0\\xa0avec l’entrée au gouvernement d’un député PS, certes peu connu, sans scrupule ni colonne vertébrale, mais socialiste quand même\\xa0: Oliviers Dussopt nommé secrétaire d’Etat alors qu’il était contre la loi de finance et qu’il avait aussi voté contre les ordonnances, lois signatures du macronisme s’il en est ! Et par la droite avec l’adhésion formelle et logique à LREM de 2 ministres et d’un député ex-LR. Cet empire du milieu gonflé à l’hélium du fait-majoritaire repousse les oppositions sur les extrêmes. Le PS, LR et le FN, sont, en ce moment, un peu absents pour travaux. Seul LFI est en ordre de marche (à un débat interne sur la laïcité près). La majorité \\xa0a sur ses flans 2 oppositions dont les discours s’annihilent et donnent à celui du gouvernement l’éclat valorisant et trop aisé de l’équilibre et de la raison. Ainsi avec la loi de sécurité intérieure, taxée de laxiste par la droite et de liberticide par la gauche, la majorité n’avait plus qu’à laisser dire !\\nEmmanuel Macron, dont la politique semblait pencher à droite, tente, un rééquilibrage...\\xa0\\nOui, ses discours (en attendant les actes !) sur les banlieues, sur les violences sexistes, reprenaient mot pour mot les arguments de la gauche. Il y a une cohérence libérale, économique et sociétale inédite en France et qui constitue un élément déstabilisateur pour les partis classiques. LREM semble avoir retrouvé ses 2 jambes et placé les oppositions dans une centrifugeuse. Oppositions qui ne peuvent pas –pour l’instant du moins- apparaître comme des alternatives crédibles, du fait de leurs inévitables divisions et de leurs radicalités forcées. Ce qui affaiblit considérablement leur parole parce que si on entend un opposant protestataire, on écoute et on tient compte d’un opposant qui a la surface pour être une alternative. Emmanuel Macron dispose donc d’une latitude inédite. Imaginez, si son opposition est représentée par Jean-Luc Mélenchon d’un côté et Laurent Wauquiez de l’autre, il est alors dans une configuration idéale pour appliquer son programme. Si vous ajoutez la possibilité de voir en Allemagne une majorité amie composée du SPD, de la CDU et des Verts, Emmanuel Macron aura vraiment toutes les manettes en main. Mais le charme de la nouveauté ne durera pas et certaines manettes pourraient se gripper, d’autant que les solutions proposées par le président ne sont que relativement majoritaires dans l’opinion. Elles sont majoritaires, \\xa0absolues simplement du fait de la mécanique de nos institutions. Elles doivent donc vite produire leurs effets et dessiner beaucoup plus clairement le but, l’horizon vers lequel la majorité est En Marche. Parce qu’attention\\xa0: comme disait le grand père de Spiderman quand celui-ci lui avouait l’immensité de ses pouvoirs « avec de grands pouvoirs viennent les grandes responsabilités ».\\xa0'"
      ]
     },
     "execution_count": 7,
     "metadata": {},
     "output_type": "execute_result"
    }
   ],
   "source": [
    "[ 7, 15, 25, 54, 89, 134, 150, 167, 245, 278, 290, 309, 356, 398, 408, 412, 476, 510, 550, 572, 632, 683, 684, 732, 745, 763, 826, 854, 888, 921, 973, 1000]\n",
    "\n",
    "df['texte'].iloc[1000]\n"
   ]
  },
  {
   "cell_type": "markdown",
   "metadata": {},
   "source": [
    "# Scrapping\n"
   ]
  },
  {
   "cell_type": "code",
   "execution_count": 8,
   "metadata": {},
   "outputs": [],
   "source": [
    "import urllib\n",
    "import bs4\n",
    "import pandas\n",
    "from urllib import request"
   ]
  },
  {
   "cell_type": "code",
   "execution_count": 9,
   "metadata": {},
   "outputs": [],
   "source": [
    "#Lexique diplomatie \n",
    "url_mots='https://fr.wiktionary.org/wiki/Cat%C3%A9gorie:Lexique_en_fran%C3%A7ais_de_la_diplomatie'\n",
    "\n",
    "request_text = request.urlopen(url_mots).read()\n",
    "\n",
    "page = bs4.BeautifulSoup(request_text, \"lxml\")\n",
    "\n",
    "main=page.find('main')\n",
    "tab=main.findAll('li')\n",
    "\n",
    "diplomatie=[]\n",
    "for x in tab:\n",
    "    table_body = x.find('a')\n",
    "    for x in table_body: \n",
    "        diplomatie.append(x)\n"
   ]
  },
  {
   "cell_type": "code",
   "execution_count": 10,
   "metadata": {},
   "outputs": [],
   "source": [
    "#Lexique idéologies politiques \n",
    "url_mots='https://fr.wiktionary.org/wiki/Cat%C3%A9gorie:Id%C3%A9ologies_politiques_en_fran%C3%A7ais'\n",
    "\n",
    "request_text = request.urlopen(url_mots).read()\n",
    "\n",
    "page = bs4.BeautifulSoup(request_text, \"lxml\")\n",
    "\n",
    "main=page.find('main')\n",
    "tab=main.findAll('li')\n",
    "\n",
    "ideologies=[]\n",
    "for x in tab:\n",
    "    table_body = x.find('a')\n",
    "    for x in table_body: \n",
    "        ideologies.append(x)\n"
   ]
  },
  {
   "cell_type": "code",
   "execution_count": 11,
   "metadata": {},
   "outputs": [],
   "source": [
    "# Lexique Franc-maçon\n",
    "url_mots='https://fr.wiktionary.org/wiki/Cat%C3%A9gorie:Lexique_en_fran%C3%A7ais_de_la_franc-ma%C3%A7onnerie'\n",
    "\n",
    "request_text = request.urlopen(url_mots).read()\n",
    "\n",
    "page = bs4.BeautifulSoup(request_text, \"lxml\")\n",
    "\n",
    "main=page.find('main')\n",
    "tab=main.findAll('li')\n",
    "\n",
    "franc_macon=[]\n",
    "for x in tab:\n",
    "    table_body = x.find('a')\n",
    "    for x in table_body: \n",
    "        franc_macon.append(x)"
   ]
  },
  {
   "cell_type": "code",
   "execution_count": 12,
   "metadata": {},
   "outputs": [],
   "source": [
    "#Lexique Monarchie \n",
    "url_mots='https://fr.wiktionary.org/wiki/Cat%C3%A9gorie:Lexique_en_fran%C3%A7ais_de_la_monarchie'\n",
    "\n",
    "request_text = request.urlopen(url_mots).read()\n",
    "\n",
    "page = bs4.BeautifulSoup(request_text, \"lxml\")\n",
    "\n",
    "main=page.find('main')\n",
    "tab=main.findAll('li')\n",
    "\n",
    "monarchie=[]\n",
    "for x in tab:\n",
    "    table_body = x.find('a')\n",
    "    for x in table_body: \n",
    "        monarchie.append(x)"
   ]
  },
  {
   "cell_type": "code",
   "execution_count": 13,
   "metadata": {},
   "outputs": [],
   "source": [
    "#Lexique Relations internationales  \n",
    "url_mots='https://fr.wiktionary.org/wiki/Cat%C3%A9gorie:Lexique_en_fran%C3%A7ais_des_relations_internationales'\n",
    "\n",
    "request_text = request.urlopen(url_mots).read()\n",
    "\n",
    "page = bs4.BeautifulSoup(request_text, \"lxml\")\n",
    "\n",
    "main=page.find('main')\n",
    "tab=main.findAll('li')\n",
    "\n",
    "ri=[]\n",
    "for x in tab:\n",
    "    table_body = x.find('a')\n",
    "    for x in table_body: \n",
    "        ri.append(x)\n",
    "        \n"
   ]
  },
  {
   "cell_type": "code",
   "execution_count": 14,
   "metadata": {},
   "outputs": [],
   "source": [
    "#Lexique du socialisme \n",
    "url_mots='https://fr.wiktionary.org/wiki/Cat%C3%A9gorie:Lexique_en_fran%C3%A7ais_du_socialisme'\n",
    "\n",
    "request_text = request.urlopen(url_mots).read()\n",
    "\n",
    "page = bs4.BeautifulSoup(request_text, \"lxml\")\n",
    "\n",
    "main=page.find('main')\n",
    "tab=main.findAll('li')\n",
    "\n",
    "socialisme=[]\n",
    "for x in tab:\n",
    "    table_body = x.find('a')\n",
    "    for x in table_body: \n",
    "        socialisme.append(x)"
   ]
  },
  {
   "cell_type": "code",
   "execution_count": 15,
   "metadata": {},
   "outputs": [],
   "source": [
    "#Lexique systèmes électoraux\n",
    "\n",
    "url_mots='https://fr.wiktionary.org/wiki/Cat%C3%A9gorie:Lexique_en_fran%C3%A7ais_des_syst%C3%A8mes_%C3%A9lectoraux'\n",
    "\n",
    "request_text = request.urlopen(url_mots).read()\n",
    "\n",
    "page = bs4.BeautifulSoup(request_text, \"lxml\")\n",
    "\n",
    "main=page.find('main')\n",
    "tab=main.findAll('li')\n",
    "\n",
    "sys_electoral=[]\n",
    "for x in tab:\n",
    "    table_body = x.find('a')\n",
    "    for x in table_body: \n",
    "        sys_electoral.append(x)"
   ]
  },
  {
   "cell_type": "code",
   "execution_count": 16,
   "metadata": {},
   "outputs": [],
   "source": [
    "#Lexique UE\n",
    "\n",
    "url_mots='https://fr.wiktionary.org/wiki/Cat%C3%A9gorie:Lexique_en_fran%C3%A7ais_de_l%E2%80%99Union_europ%C3%A9enne'\n",
    "\n",
    "request_text = request.urlopen(url_mots).read()\n",
    "\n",
    "page = bs4.BeautifulSoup(request_text, \"lxml\")\n",
    "\n",
    "main=page.find('main')\n",
    "tab=main.findAll('li')\n",
    "\n",
    "UE=[]\n",
    "for x in tab:\n",
    "    table_body = x.find('a')\n",
    "    for x in table_body: \n",
    "        UE.append(x)"
   ]
  },
  {
   "cell_type": "code",
   "execution_count": 17,
   "metadata": {},
   "outputs": [],
   "source": [
    "#Lexique Vexillologie\n",
    "\n",
    "url_mots='https://fr.wiktionary.org/wiki/Cat%C3%A9gorie:Lexique_en_fran%C3%A7ais_de_la_vexillologie'\n",
    "\n",
    "request_text = request.urlopen(url_mots).read()\n",
    "\n",
    "page = bs4.BeautifulSoup(request_text, \"lxml\")\n",
    "\n",
    "main=page.find('main')\n",
    "tab=main.findAll('li')\n",
    "\n",
    "Vex=[]\n",
    "for x in tab:\n",
    "    table_body = x.find('a')\n",
    "    for x in table_body: \n",
    "        Vex.append(x)"
   ]
  },
  {
   "cell_type": "markdown",
   "metadata": {},
   "source": [
    "# Création Matcher"
   ]
  },
  {
   "cell_type": "code",
   "execution_count": 24,
   "metadata": {},
   "outputs": [],
   "source": [
    "import spacy\n",
    "\n",
    "# Importe le Matcher\n",
    "from spacy.matcher import Matcher\n",
    "#Charge le modèle et crée l'objet nlp\n",
    "nlp = spacy.load(\"fr_core_news_sm\")"
   ]
  },
  {
   "cell_type": "code",
   "execution_count": 25,
   "metadata": {},
   "outputs": [],
   "source": [
    "def add_matchers(l, matcher):\n",
    "    for i in range(len(l)):\n",
    "        doc = nlp(str(l[i]))\n",
    "        pattern = []\n",
    "        for token in doc:\n",
    "                if (token.pos_ == 'VERB' or token.pos_ == 'AUX'):\n",
    "                    pattern.append({\"LEMMA\" : str(token), 'POS' : token.pos_})\n",
    "                elif token.pos_== 'NOUN':\n",
    "                    pattern.append({\"LEMMA\" : str(token), 'POS' : 'NOUN'})\n",
    "                elif token.pos_== 'DET':\n",
    "                    pattern.append({'POS' : 'DET'})   \n",
    "                else:\n",
    "                    pattern.append({'LOWER' : str(token)})\n",
    "        matcher.add(str(i), None, pattern)\n",
    "\n",
    "\n",
    "def expressions_extraction(texte,matcher):\n",
    "    doc = nlp(texte)\n",
    "    matches = matcher(doc)\n",
    "    return([doc[start:end] for match_id, start, end in matches])\n",
    "\n",
    "def add_feature_matcher(df, expressions):\n",
    "    matcher = Matcher(nlp.vocab)\n",
    "    add_matchers(expressions,matcher)\n",
    "    df['matcher'] = df['texte'].apply(lambda x : expressions_extraction(x, matcher))\n",
    "    df['taille matcher'] = df['matcher'].apply(len)\n",
    "    return(df)"
   ]
  },
  {
   "cell_type": "code",
   "execution_count": 64,
   "metadata": {},
   "outputs": [
    {
     "name": "stderr",
     "output_type": "stream",
     "text": [
      "<ipython-input-25-014dcf04d269>:25: SettingWithCopyWarning: \n",
      "A value is trying to be set on a copy of a slice from a DataFrame.\n",
      "Try using .loc[row_indexer,col_indexer] = value instead\n",
      "\n",
      "See the caveats in the documentation: https://pandas.pydata.org/pandas-docs/stable/user_guide/indexing.html#returning-a-view-versus-a-copy\n",
      "  df['matcher'] = df['texte'].apply(lambda x : expressions_extraction(x, matcher))\n",
      "<ipython-input-25-014dcf04d269>:26: SettingWithCopyWarning: \n",
      "A value is trying to be set on a copy of a slice from a DataFrame.\n",
      "Try using .loc[row_indexer,col_indexer] = value instead\n",
      "\n",
      "See the caveats in the documentation: https://pandas.pydata.org/pandas-docs/stable/user_guide/indexing.html#returning-a-view-versus-a-copy\n",
      "  df['taille matcher'] = df['matcher'].apply(len)\n"
     ]
    }
   ],
   "source": [
    "matcher = Matcher(nlp.vocab)\n",
    "\n",
    "L=[]\n",
    "\n",
    "for x in Editorialistes:\n",
    "    M1=add_feature_matcher(x, UE)\n",
    "    k=0\n",
    "    for i in range (len(M1)):\n",
    "        if M1['taille matcher'].iloc[i]!=0:\n",
    "            k+=M1['taille matcher'].iloc[i]\n",
    "    L.append(k)\n"
   ]
  },
  {
   "cell_type": "code",
   "execution_count": 73,
   "metadata": {},
   "outputs": [
    {
     "data": {
      "image/png": "[encoded data removed]",
      "text/plain": [
       "<Figure size 432x288 with 1 Axes>"
      ]
     },
     "metadata": {
      "needs_background": "light"
     },
     "output_type": "display_data"
    }
   ],
   "source": [
    "plt.bar(['Nay', 'Duhamel', 'Ventura', 'Says', 'Legrand', 'Seux', 'Darmon'], L)\n",
    "plt.title('Fréquence du lexique UE par éditorialiste')\n",
    "plt.show()"
   ]
  },
  {
   "cell_type": "code",
   "execution_count": 72,
   "metadata": {},
   "outputs": [
    {
     "name": "stdout",
     "output_type": "stream",
     "text": [
      "iPhone 12\n"
     ]
    }
   ],
   "source": [
    "\n",
    "for match_id, start, end in matches:\n",
    "    #print(\"Correspondance trouvée :\", doc[start:end].text)\n",
    "    print(str(doc[start:end]))\n"
   ]
  },
  {
   "cell_type": "markdown",
   "metadata": {},
   "source": [
    "# Nuages de mots"
   ]
  },
  {
   "cell_type": "code",
   "execution_count": null,
   "metadata": {},
   "outputs": [],
   "source": [
    "#Nuage de mots sur un seul texte \n",
    "\n",
    "def generate_wordcloud(text): # optionally add: stopwords=STOPWORDS and change the arg below\n",
    "    wordcloud = WordCloud(font_path='/Library/Fonts/Verdana.ttf',\n",
    "                          relative_scaling = 1.0,\n",
    "                          stopwords = {'to', 'of'} # set or space-separated string\n",
    "                          ).generate(text)\n",
    "    plt.imshow(wordcloud)\n",
    "    plt.axis(\"off\")\n",
    "    plt.show()\n",
    "\n"
   ]
  },
  {
   "cell_type": "code",
   "execution_count": null,
   "metadata": {},
   "outputs": [],
   "source": [
    "filtered_sentence =[] \n",
    "for x in Nay['texte']:\n",
    "    #  \"nlp\" Object is used to create documents with linguistic annotations.\n",
    "    my_doc = nlp(x)\n",
    "    # Create list of word tokens\n",
    "    token_list = []\n",
    "    for token in my_doc:\n",
    "        token_list.append(token.text)\n",
    "\n",
    "    # Create list of word tokens after removing stopwords\n",
    "    for word in token_list:\n",
    "        lexeme = nlp.vocab[word]\n",
    "        if lexeme.is_stop == False and lexeme!= 'y':\n",
    "            filtered_sentence.append(word) \n",
    "filtered_Nay=' '.join(filtered_sentence)\n",
    "\n",
    "filtered_sentence =[] \n",
    "for x in Legrand['texte']:\n",
    "    #  \"nlp\" Object is used to create documents with linguistic annotations.\n",
    "    my_doc = nlp(x)\n",
    "    # Create list of word tokens\n",
    "    token_list = []\n",
    "    for token in my_doc:\n",
    "        token_list.append(token.text)\n",
    "\n",
    "    # Create list of word tokens after removing stopwords\n",
    "    for word in token_list:\n",
    "        lexeme = nlp.vocab[word]\n",
    "        if lexeme.is_stop == False and lexeme!= 'y':\n",
    "            filtered_sentence.append(word) \n",
    "filtered_Legrand=' '.join(filtered_sentence)\n",
    "\n",
    "filtered_sentence =[] \n",
    "for x in Duhamel['texte']:\n",
    "    #  \"nlp\" Object is used to create documents with linguistic annotations.\n",
    "    my_doc = nlp(x)\n",
    "    # Create list of word tokens\n",
    "    token_list = []\n",
    "    for token in my_doc:\n",
    "        token_list.append(token.text)\n",
    "\n",
    "    # Create list of word tokens after removing stopwords\n",
    "    for word in token_list:\n",
    "        lexeme = nlp.vocab[word]\n",
    "        if lexeme.is_stop == False and lexeme!= 'y':\n",
    "            filtered_sentence.append(word) \n",
    "filtered_Duhamel=' '.join(filtered_sentence)\n",
    "\n",
    "filtered_sentence =[] \n",
    "for x in Seux['texte']:\n",
    "    #  \"nlp\" Object is used to create documents with linguistic annotations.\n",
    "    my_doc = nlp(x)\n",
    "    # Create list of word tokens\n",
    "    token_list = []\n",
    "    for token in my_doc:\n",
    "        token_list.append(token.text)\n",
    "\n",
    "    # Create list of word tokens after removing stopwords\n",
    "    for word in token_list:\n",
    "        lexeme = nlp.vocab[word]\n",
    "        if lexeme.is_stop == False and lexeme!='y':\n",
    "            filtered_sentence.append(word) \n",
    "filtered_Seux=' '.join(filtered_sentence)\n",
    "\n",
    "filtered_sentence =[] \n",
    "for x in Ventura['texte']:\n",
    "    #  \"nlp\" Object is used to create documents with linguistic annotations.\n",
    "    my_doc = nlp(x)\n",
    "    # Create list of word tokens\n",
    "    token_list = []\n",
    "    for token in my_doc:\n",
    "        token_list.append(token.text)\n",
    "\n",
    "    # Create list of word tokens after removing stopwords\n",
    "    for word in token_list:\n",
    "        lexeme = nlp.vocab[word]\n",
    "        if lexeme.is_stop == False and lexeme!='y':\n",
    "            filtered_sentence.append(word) \n",
    "filtered_Ventura=' '.join(filtered_sentence)\n",
    "\n",
    "filtered_sentence =[] \n",
    "for x in Says['texte']:\n",
    "    #  \"nlp\" Object is used to create documents with linguistic annotations.\n",
    "    my_doc = nlp(x)\n",
    "    # Create list of word tokens\n",
    "    token_list = []\n",
    "    for token in my_doc:\n",
    "        token_list.append(token.text)\n",
    "\n",
    "    # Create list of word tokens after removing stopwords\n",
    "    for word in token_list:\n",
    "        lexeme = nlp.vocab[word]\n",
    "        if lexeme.is_stop == False and lexeme!='y':\n",
    "            filtered_sentence.append(word) \n",
    "filtered_Says=' '.join(filtered_sentence)\n",
    "\n",
    "filtered_sentence =[] \n",
    "for x in Darmon['texte']:\n",
    "    #  \"nlp\" Object is used to create documents with linguistic annotations.\n",
    "    my_doc = nlp(x)\n",
    "    # Create list of word tokens\n",
    "    token_list = []\n",
    "    for token in my_doc:\n",
    "        token_list.append(token.text)\n",
    "\n",
    "    # Create list of word tokens after removing stopwords\n",
    "    for word in token_list:\n",
    "        lexeme = nlp.vocab[word]\n",
    "        if lexeme.is_stop == False and lexeme!='y':\n",
    "            filtered_sentence.append(word) \n",
    "filtered_Darmon=' '.join(filtered_sentence)\n"
   ]
  },
  {
   "cell_type": "code",
   "execution_count": null,
   "metadata": {},
   "outputs": [],
   "source": [
    "generate_wordcloud(filtered_Legrand)\n",
    "generate_wordcloud(filtered_Seux)\n",
    "generate_wordcloud(filtered_Nay)\n",
    "generate_wordcloud(filtered_Duhamel)\n",
    "generate_wordcloud(filtered_Darmon)\n",
    "generate_wordcloud(filtered_Ventura)\n",
    "generate_wordcloud(filtered_Says)"
   ]
  },
  {
   "cell_type": "code",
   "execution_count": null,
   "metadata": {},
   "outputs": [],
   "source": []
  }
 ],
 "metadata": {
  "kernelspec": {
   "display_name": "Python 3",
   "language": "python",
   "name": "python3"
  },
  "language_info": {
   "codemirror_mode": {
    "name": "ipython",
    "version": 3
   },
   "file_extension": ".py",
   "mimetype": "text/x-python",
   "name": "python",
   "nbconvert_exporter": "python",
   "pygments_lexer": "ipython3",
   "version": "3.8.3"
  }
 },
 "nbformat": 4,
 "nbformat_minor": 4
}
